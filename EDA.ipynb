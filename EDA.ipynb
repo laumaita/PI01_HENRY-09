{
 "cells": [
  {
   "cell_type": "code",
   "execution_count": 1,
   "metadata": {},
   "outputs": [],
   "source": [
    "import pandas as pd\n",
    "import numpy as np\n",
    "import seaborn as sns\n",
    "import matplotlib.pyplot as plt"
   ]
  },
  {
   "cell_type": "code",
   "execution_count": 2,
   "metadata": {},
   "outputs": [],
   "source": [
    "total_plataformas = pd.read_csv('totalplataformas.csv', delimiter=',', encoding='utf-8')\n",
    "total_rating= pd.read_csv('ratin_total.csv', delimiter=',', encoding='utf-8')"
   ]
  },
  {
   "cell_type": "code",
   "execution_count": 3,
   "metadata": {},
   "outputs": [
    {
     "data": {
      "text/html": [
       "<div>\n",
       "<style scoped>\n",
       "    .dataframe tbody tr th:only-of-type {\n",
       "        vertical-align: middle;\n",
       "    }\n",
       "\n",
       "    .dataframe tbody tr th {\n",
       "        vertical-align: top;\n",
       "    }\n",
       "\n",
       "    .dataframe thead th {\n",
       "        text-align: right;\n",
       "    }\n",
       "</style>\n",
       "<table border=\"1\" class=\"dataframe\">\n",
       "  <thead>\n",
       "    <tr style=\"text-align: right;\">\n",
       "      <th></th>\n",
       "      <th>id</th>\n",
       "      <th>show_id</th>\n",
       "      <th>type</th>\n",
       "      <th>title</th>\n",
       "      <th>director</th>\n",
       "      <th>cast</th>\n",
       "      <th>country</th>\n",
       "      <th>date_added</th>\n",
       "      <th>release_year</th>\n",
       "      <th>rating</th>\n",
       "      <th>duration</th>\n",
       "      <th>listed_in</th>\n",
       "      <th>description</th>\n",
       "      <th>duration_int</th>\n",
       "      <th>duration_type</th>\n",
       "    </tr>\n",
       "  </thead>\n",
       "  <tbody>\n",
       "    <tr>\n",
       "      <th>0</th>\n",
       "      <td>ns1</td>\n",
       "      <td>s1</td>\n",
       "      <td>movie</td>\n",
       "      <td>dick johnson is dead</td>\n",
       "      <td>kirsten johnson</td>\n",
       "      <td>NaN</td>\n",
       "      <td>united states</td>\n",
       "      <td>2021-09-25</td>\n",
       "      <td>2020</td>\n",
       "      <td>pg-13</td>\n",
       "      <td>90 min</td>\n",
       "      <td>documentaries</td>\n",
       "      <td>as her father nears the end of his life, filmm...</td>\n",
       "      <td>90.0</td>\n",
       "      <td>min</td>\n",
       "    </tr>\n",
       "    <tr>\n",
       "      <th>1</th>\n",
       "      <td>ns2</td>\n",
       "      <td>s2</td>\n",
       "      <td>tv show</td>\n",
       "      <td>blood &amp; water</td>\n",
       "      <td>NaN</td>\n",
       "      <td>ama qamata, khosi ngema, gail mabalane, thaban...</td>\n",
       "      <td>south africa</td>\n",
       "      <td>2021-09-24</td>\n",
       "      <td>2021</td>\n",
       "      <td>tv-ma</td>\n",
       "      <td>2 seasons</td>\n",
       "      <td>international tv shows, tv dramas, tv mysteries</td>\n",
       "      <td>after crossing paths at a party, a cape town t...</td>\n",
       "      <td>2.0</td>\n",
       "      <td>season</td>\n",
       "    </tr>\n",
       "    <tr>\n",
       "      <th>2</th>\n",
       "      <td>ns3</td>\n",
       "      <td>s3</td>\n",
       "      <td>tv show</td>\n",
       "      <td>ganglands</td>\n",
       "      <td>julien leclercq</td>\n",
       "      <td>sami bouajila, tracy gotoas, samuel jouy, nabi...</td>\n",
       "      <td>NaN</td>\n",
       "      <td>2021-09-24</td>\n",
       "      <td>2021</td>\n",
       "      <td>tv-ma</td>\n",
       "      <td>1 season</td>\n",
       "      <td>crime tv shows, international tv shows, tv act...</td>\n",
       "      <td>to protect his family from a powerful drug lor...</td>\n",
       "      <td>1.0</td>\n",
       "      <td>season</td>\n",
       "    </tr>\n",
       "    <tr>\n",
       "      <th>3</th>\n",
       "      <td>ns4</td>\n",
       "      <td>s4</td>\n",
       "      <td>tv show</td>\n",
       "      <td>jailbirds new orleans</td>\n",
       "      <td>NaN</td>\n",
       "      <td>NaN</td>\n",
       "      <td>NaN</td>\n",
       "      <td>2021-09-24</td>\n",
       "      <td>2021</td>\n",
       "      <td>tv-ma</td>\n",
       "      <td>1 season</td>\n",
       "      <td>docuseries, reality tv</td>\n",
       "      <td>feuds, flirtations and toilet talk go down amo...</td>\n",
       "      <td>1.0</td>\n",
       "      <td>season</td>\n",
       "    </tr>\n",
       "    <tr>\n",
       "      <th>4</th>\n",
       "      <td>ns5</td>\n",
       "      <td>s5</td>\n",
       "      <td>tv show</td>\n",
       "      <td>kota factory</td>\n",
       "      <td>NaN</td>\n",
       "      <td>mayur more, jitendra kumar, ranjan raj, alam k...</td>\n",
       "      <td>india</td>\n",
       "      <td>2021-09-24</td>\n",
       "      <td>2021</td>\n",
       "      <td>tv-ma</td>\n",
       "      <td>2 seasons</td>\n",
       "      <td>international tv shows, romantic tv shows, tv ...</td>\n",
       "      <td>in a city of coaching centers known to train i...</td>\n",
       "      <td>2.0</td>\n",
       "      <td>season</td>\n",
       "    </tr>\n",
       "  </tbody>\n",
       "</table>\n",
       "</div>"
      ],
      "text/plain": [
       "    id show_id     type                  title         director  \\\n",
       "0  ns1      s1    movie   dick johnson is dead  kirsten johnson   \n",
       "1  ns2      s2  tv show          blood & water              NaN   \n",
       "2  ns3      s3  tv show              ganglands  julien leclercq   \n",
       "3  ns4      s4  tv show  jailbirds new orleans              NaN   \n",
       "4  ns5      s5  tv show           kota factory              NaN   \n",
       "\n",
       "                                                cast        country  \\\n",
       "0                                                NaN  united states   \n",
       "1  ama qamata, khosi ngema, gail mabalane, thaban...   south africa   \n",
       "2  sami bouajila, tracy gotoas, samuel jouy, nabi...            NaN   \n",
       "3                                                NaN            NaN   \n",
       "4  mayur more, jitendra kumar, ranjan raj, alam k...          india   \n",
       "\n",
       "   date_added  release_year rating   duration  \\\n",
       "0  2021-09-25          2020  pg-13     90 min   \n",
       "1  2021-09-24          2021  tv-ma  2 seasons   \n",
       "2  2021-09-24          2021  tv-ma   1 season   \n",
       "3  2021-09-24          2021  tv-ma   1 season   \n",
       "4  2021-09-24          2021  tv-ma  2 seasons   \n",
       "\n",
       "                                           listed_in  \\\n",
       "0                                      documentaries   \n",
       "1    international tv shows, tv dramas, tv mysteries   \n",
       "2  crime tv shows, international tv shows, tv act...   \n",
       "3                             docuseries, reality tv   \n",
       "4  international tv shows, romantic tv shows, tv ...   \n",
       "\n",
       "                                         description  duration_int  \\\n",
       "0  as her father nears the end of his life, filmm...          90.0   \n",
       "1  after crossing paths at a party, a cape town t...           2.0   \n",
       "2  to protect his family from a powerful drug lor...           1.0   \n",
       "3  feuds, flirtations and toilet talk go down amo...           1.0   \n",
       "4  in a city of coaching centers known to train i...           2.0   \n",
       "\n",
       "  duration_type  \n",
       "0           min  \n",
       "1        season  \n",
       "2        season  \n",
       "3        season  \n",
       "4        season  "
      ]
     },
     "execution_count": 3,
     "metadata": {},
     "output_type": "execute_result"
    }
   ],
   "source": [
    "total_plataformas.head()"
   ]
  },
  {
   "cell_type": "code",
   "execution_count": 4,
   "metadata": {},
   "outputs": [],
   "source": [
    "# Uno los dos dataframes vinculando los id\n",
    "df_completo = pd.merge(total_plataformas, total_rating, left_on='id', right_on='movieId', how='inner')"
   ]
  },
  {
   "cell_type": "code",
   "execution_count": 5,
   "metadata": {},
   "outputs": [
    {
     "data": {
      "text/html": [
       "<div>\n",
       "<style scoped>\n",
       "    .dataframe tbody tr th:only-of-type {\n",
       "        vertical-align: middle;\n",
       "    }\n",
       "\n",
       "    .dataframe tbody tr th {\n",
       "        vertical-align: top;\n",
       "    }\n",
       "\n",
       "    .dataframe thead th {\n",
       "        text-align: right;\n",
       "    }\n",
       "</style>\n",
       "<table border=\"1\" class=\"dataframe\">\n",
       "  <thead>\n",
       "    <tr style=\"text-align: right;\">\n",
       "      <th></th>\n",
       "      <th>id</th>\n",
       "      <th>show_id</th>\n",
       "      <th>type</th>\n",
       "      <th>title</th>\n",
       "      <th>director</th>\n",
       "      <th>cast</th>\n",
       "      <th>country</th>\n",
       "      <th>date_added</th>\n",
       "      <th>release_year</th>\n",
       "      <th>rating</th>\n",
       "      <th>duration</th>\n",
       "      <th>listed_in</th>\n",
       "      <th>description</th>\n",
       "      <th>duration_int</th>\n",
       "      <th>duration_type</th>\n",
       "      <th>userId</th>\n",
       "      <th>score</th>\n",
       "      <th>timestamp</th>\n",
       "      <th>movieId</th>\n",
       "    </tr>\n",
       "  </thead>\n",
       "  <tbody>\n",
       "    <tr>\n",
       "      <th>0</th>\n",
       "      <td>ns1</td>\n",
       "      <td>s1</td>\n",
       "      <td>movie</td>\n",
       "      <td>dick johnson is dead</td>\n",
       "      <td>kirsten johnson</td>\n",
       "      <td>NaN</td>\n",
       "      <td>united states</td>\n",
       "      <td>2021-09-25</td>\n",
       "      <td>2020</td>\n",
       "      <td>pg-13</td>\n",
       "      <td>90 min</td>\n",
       "      <td>documentaries</td>\n",
       "      <td>as her father nears the end of his life, filmm...</td>\n",
       "      <td>90.0</td>\n",
       "      <td>min</td>\n",
       "      <td>64</td>\n",
       "      <td>4.5</td>\n",
       "      <td>1085081152</td>\n",
       "      <td>ns1</td>\n",
       "    </tr>\n",
       "    <tr>\n",
       "      <th>1</th>\n",
       "      <td>ns1</td>\n",
       "      <td>s1</td>\n",
       "      <td>movie</td>\n",
       "      <td>dick johnson is dead</td>\n",
       "      <td>kirsten johnson</td>\n",
       "      <td>NaN</td>\n",
       "      <td>united states</td>\n",
       "      <td>2021-09-25</td>\n",
       "      <td>2020</td>\n",
       "      <td>pg-13</td>\n",
       "      <td>90 min</td>\n",
       "      <td>documentaries</td>\n",
       "      <td>as her father nears the end of his life, filmm...</td>\n",
       "      <td>90.0</td>\n",
       "      <td>min</td>\n",
       "      <td>189</td>\n",
       "      <td>3.5</td>\n",
       "      <td>1281649224</td>\n",
       "      <td>ns1</td>\n",
       "    </tr>\n",
       "  </tbody>\n",
       "</table>\n",
       "</div>"
      ],
      "text/plain": [
       "    id show_id   type                 title         director cast  \\\n",
       "0  ns1      s1  movie  dick johnson is dead  kirsten johnson  NaN   \n",
       "1  ns1      s1  movie  dick johnson is dead  kirsten johnson  NaN   \n",
       "\n",
       "         country  date_added  release_year rating duration      listed_in  \\\n",
       "0  united states  2021-09-25          2020  pg-13   90 min  documentaries   \n",
       "1  united states  2021-09-25          2020  pg-13   90 min  documentaries   \n",
       "\n",
       "                                         description  duration_int  \\\n",
       "0  as her father nears the end of his life, filmm...          90.0   \n",
       "1  as her father nears the end of his life, filmm...          90.0   \n",
       "\n",
       "  duration_type  userId  score   timestamp movieId  \n",
       "0           min      64    4.5  1085081152     ns1  \n",
       "1           min     189    3.5  1281649224     ns1  "
      ]
     },
     "execution_count": 5,
     "metadata": {},
     "output_type": "execute_result"
    }
   ],
   "source": [
    "df_completo.head(2)"
   ]
  },
  {
   "cell_type": "code",
   "execution_count": 29,
   "metadata": {},
   "outputs": [
    {
     "name": "stdout",
     "output_type": "stream",
     "text": [
      "id                     0\n",
      "show_id                0\n",
      "type                   0\n",
      "title                  0\n",
      "director         3960615\n",
      "cast             2550859\n",
      "country          5510080\n",
      "date_added       5261727\n",
      "release_year           0\n",
      "rating                 0\n",
      "duration          231117\n",
      "listed_in              0\n",
      "description         1815\n",
      "duration_int      231117\n",
      "duration_type     231117\n",
      "userId                 0\n",
      "score                  0\n",
      "timestamp              0\n",
      "movieId                0\n",
      "dtype: int64\n"
     ]
    }
   ],
   "source": [
    "#visualizo cantidad de datos faltantes por columna\n",
    "print(df_completo.isna().sum())\n"
   ]
  },
  {
   "cell_type": "code",
   "execution_count": 26,
   "metadata": {},
   "outputs": [
    {
     "name": "stdout",
     "output_type": "stream",
     "text": [
      "id                0.0\n",
      "show_id           0.0\n",
      "type              0.0\n",
      "title             0.0\n",
      "director         35.9\n",
      "cast             23.1\n",
      "country          50.0\n",
      "date_added       47.7\n",
      "release_year      0.0\n",
      "rating            0.0\n",
      "duration          2.1\n",
      "listed_in         0.0\n",
      "description       0.0\n",
      "duration_int      2.1\n",
      "duration_type     2.1\n",
      "userId            0.0\n",
      "score             0.0\n",
      "timestamp         0.0\n",
      "movieId           0.0\n",
      "dtype: float64\n"
     ]
    }
   ],
   "source": [
    "# Saco un promedio de datos faltantes\n",
    "print(round(df_completo.isnull().mean() *100, 1))"
   ]
  },
  {
   "cell_type": "code",
   "execution_count": 31,
   "metadata": {},
   "outputs": [
    {
     "name": "stdout",
     "output_type": "stream",
     "text": [
      "8.6 %\n"
     ]
    }
   ],
   "source": [
    "# datos faltantes totales\n",
    "print(round(df_completo.isnull().mean().mean() * 100, 1),'%')"
   ]
  },
  {
   "cell_type": "code",
   "execution_count": 8,
   "metadata": {},
   "outputs": [
    {
     "data": {
      "text/plain": [
       "array([[<AxesSubplot: title={'center': 'release_year'}>,\n",
       "        <AxesSubplot: title={'center': 'duration_int'}>],\n",
       "       [<AxesSubplot: title={'center': 'userId'}>,\n",
       "        <AxesSubplot: title={'center': 'score'}>],\n",
       "       [<AxesSubplot: title={'center': 'timestamp'}>, <AxesSubplot: >]],\n",
       "      dtype=object)"
      ]
     },
     "execution_count": 8,
     "metadata": {},
     "output_type": "execute_result"
    },
    {
     "data": {
      "image/png": "[encoded data removed]",
      "text/plain": [
       "<Figure size 864x720 with 6 Axes>"
      ]
     },
     "metadata": {
      "needs_background": "light"
     },
     "output_type": "display_data"
    }
   ],
   "source": [
    "#Reviso campos numericos, se puede observar que la mayoria de contenido rondan el año 2020 \n",
    "#la mayoria de las peliculas duran al rededor de 2hs\n",
    "#la mayoria de usuarios califica el contenido en 3 y 4 puntos\n",
    "\n",
    "df_completo.hist(bins=20, figsize=(12,10))"
   ]
  },
  {
   "cell_type": "code",
   "execution_count": 9,
   "metadata": {},
   "outputs": [
    {
     "data": {
      "text/plain": [
       "<AxesSubplot: >"
      ]
     },
     "execution_count": 9,
     "metadata": {},
     "output_type": "execute_result"
    },
    {
     "data": {
      "image/png": "[encoded data removed]",
      "text/plain": [
       "<Figure size 720x360 with 1 Axes>"
      ]
     },
     "metadata": {
      "needs_background": "light"
     },
     "output_type": "display_data"
    }
   ],
   "source": [
    "#Mayor contenido\n",
    "df_completo.type.hist(bins=5, figsize=(10,5))"
   ]
  },
  {
   "cell_type": "code",
   "execution_count": 10,
   "metadata": {},
   "outputs": [
    {
     "name": "stderr",
     "output_type": "stream",
     "text": [
      "C:\\Users\\LENOVO\\AppData\\Local\\Temp\\ipykernel_13484\\36195395.py:2: FutureWarning: The default value of numeric_only in DataFrame.corr is deprecated. In a future version, it will default to False. Select only valid columns or specify the value of numeric_only to silence this warning.\n",
      "  df_completo.corr()\n",
      "C:\\Users\\LENOVO\\AppData\\Local\\Temp\\ipykernel_13484\\36195395.py:3: FutureWarning: The default value of numeric_only in DataFrame.corr is deprecated. In a future version, it will default to False. Select only valid columns or specify the value of numeric_only to silence this warning.\n",
      "  sns.heatmap(df_completo.corr(), annot=True, cmap='coolwarm')\n"
     ]
    },
    {
     "data": {
      "text/plain": [
       "<AxesSubplot: >"
      ]
     },
     "execution_count": 10,
     "metadata": {},
     "output_type": "execute_result"
    },
    {
     "data": {
      "image/png": "[encoded data removed]",
      "text/plain": [
       "<Figure size 432x288 with 2 Axes>"
      ]
     },
     "metadata": {
      "needs_background": "light"
     },
     "output_type": "display_data"
    }
   ],
   "source": [
    "# Busco correlaciones entre los campor numericos\n",
    "df_completo.corr()\n",
    "sns.heatmap(df_completo.corr(), annot=True, cmap='coolwarm')"
   ]
  },
  {
   "cell_type": "code",
   "execution_count": 13,
   "metadata": {},
   "outputs": [
    {
     "data": {
      "text/plain": [
       "id                object\n",
       "show_id           object\n",
       "type              object\n",
       "title             object\n",
       "director          object\n",
       "cast              object\n",
       "country           object\n",
       "date_added        object\n",
       "release_year       int64\n",
       "rating            object\n",
       "duration          object\n",
       "listed_in         object\n",
       "description       object\n",
       "duration_int     float64\n",
       "duration_type     object\n",
       "userId             int64\n",
       "score            float64\n",
       "timestamp          int64\n",
       "movieId           object\n",
       "dtype: object"
      ]
     },
     "execution_count": 13,
     "metadata": {},
     "output_type": "execute_result"
    }
   ],
   "source": [
    "df_completo.dtypes"
   ]
  },
  {
   "cell_type": "code",
   "execution_count": 36,
   "metadata": {},
   "outputs": [
    {
     "data": {
      "text/plain": [
       "array([[<AxesSubplot: title={'center': 'release_year'}>,\n",
       "        <AxesSubplot: title={'center': 'duration_int'}>]], dtype=object)"
      ]
     },
     "execution_count": 36,
     "metadata": {},
     "output_type": "execute_result"
    },
    {
     "data": {
      "image/png": "[encoded data removed]",
      "text/plain": [
       "<Figure size 864x360 with 2 Axes>"
      ]
     },
     "metadata": {
      "needs_background": "light"
     },
     "output_type": "display_data"
    },
    {
     "data": {
      "image/png": "[encoded data removed]",
      "text/plain": [
       "<Figure size 864x360 with 2 Axes>"
      ]
     },
     "metadata": {
      "needs_background": "light"
     },
     "output_type": "display_data"
    }
   ],
   "source": [
    "#separo el tipo de contenido \n",
    "#la mayoria de las series tienen menos de 5 temporadas\n",
    "#si bien la mayoria del contenido es del año 2000 en adelante, se puede observar que hay peliculas desde 1920\n",
    "peliculas= total_plataformas[total_plataformas.type=='movie']\n",
    "tv_show=total_plataformas[total_plataformas.type=='tv show']\n",
    "peliculas.hist(bins=20, figsize=(12,5))\n",
    "tv_show.hist(bins=20, figsize=(12,5))\n"
   ]
  },
  {
   "cell_type": "code",
   "execution_count": 37,
   "metadata": {},
   "outputs": [
    {
     "data": {
      "text/plain": [
       "<AxesSubplot: xlabel='duration_int'>"
      ]
     },
     "execution_count": 37,
     "metadata": {},
     "output_type": "execute_result"
    },
    {
     "data": {
      "image/png": "[encoded data removed]",
      "text/plain": [
       "<Figure size 432x288 with 1 Axes>"
      ]
     },
     "metadata": {
      "needs_background": "light"
     },
     "output_type": "display_data"
    }
   ],
   "source": [
    "sns.boxplot(x='duration_int', data=peliculas)\n",
    "# Se observan outliers en el tiempo de duracion de peliculas desde 0hs hasta 10hs"
   ]
  },
  {
   "cell_type": "code",
   "execution_count": 39,
   "metadata": {},
   "outputs": [
    {
     "data": {
      "text/plain": [
       "<AxesSubplot: xlabel='score'>"
      ]
     },
     "execution_count": 39,
     "metadata": {},
     "output_type": "execute_result"
    },
    {
     "data": {
      "image/png": "[encoded data removed]",
      "text/plain": [
       "<Figure size 432x288 with 1 Axes>"
      ]
     },
     "metadata": {
      "needs_background": "light"
     },
     "output_type": "display_data"
    }
   ],
   "source": [
    "sns.boxplot(x='score', data=total_rating)\n",
    "# la mayoria de usuarios votan entre 3 y 4 "
   ]
  },
  {
   "cell_type": "code",
   "execution_count": 21,
   "metadata": {},
   "outputs": [
    {
     "name": "stdout",
     "output_type": "stream",
     "text": [
      "115077\n"
     ]
    }
   ],
   "source": [
    "# usuarios únicos\n",
    "\n",
    "print(len(total_rating['userId'].unique()))"
   ]
  },
  {
   "cell_type": "code",
   "execution_count": 23,
   "metadata": {},
   "outputs": [
    {
     "data": {
      "text/html": [
       "<div>\n",
       "<style scoped>\n",
       "    .dataframe tbody tr th:only-of-type {\n",
       "        vertical-align: middle;\n",
       "    }\n",
       "\n",
       "    .dataframe tbody tr th {\n",
       "        vertical-align: top;\n",
       "    }\n",
       "\n",
       "    .dataframe thead th {\n",
       "        text-align: right;\n",
       "    }\n",
       "</style>\n",
       "<table border=\"1\" class=\"dataframe\">\n",
       "  <thead>\n",
       "    <tr style=\"text-align: right;\">\n",
       "      <th></th>\n",
       "      <th>score</th>\n",
       "      <th>timestamp</th>\n",
       "      <th>movieId</th>\n",
       "    </tr>\n",
       "    <tr>\n",
       "      <th>userId</th>\n",
       "      <th></th>\n",
       "      <th></th>\n",
       "      <th></th>\n",
       "    </tr>\n",
       "  </thead>\n",
       "  <tbody>\n",
       "    <tr>\n",
       "      <th>1</th>\n",
       "      <td>27</td>\n",
       "      <td>27</td>\n",
       "      <td>27</td>\n",
       "    </tr>\n",
       "    <tr>\n",
       "      <th>2</th>\n",
       "      <td>22</td>\n",
       "      <td>22</td>\n",
       "      <td>22</td>\n",
       "    </tr>\n",
       "    <tr>\n",
       "      <th>3</th>\n",
       "      <td>10</td>\n",
       "      <td>10</td>\n",
       "      <td>10</td>\n",
       "    </tr>\n",
       "    <tr>\n",
       "      <th>4</th>\n",
       "      <td>62</td>\n",
       "      <td>62</td>\n",
       "      <td>62</td>\n",
       "    </tr>\n",
       "    <tr>\n",
       "      <th>5</th>\n",
       "      <td>26</td>\n",
       "      <td>26</td>\n",
       "      <td>26</td>\n",
       "    </tr>\n",
       "  </tbody>\n",
       "</table>\n",
       "</div>"
      ],
      "text/plain": [
       "        score  timestamp  movieId\n",
       "userId                           \n",
       "1          27         27       27\n",
       "2          22         22       22\n",
       "3          10         10       10\n",
       "4          62         62       62\n",
       "5          26         26       26"
      ]
     },
     "execution_count": 23,
     "metadata": {},
     "output_type": "execute_result"
    }
   ],
   "source": [
    "# Calificaciones de contenido por usuario\n",
    "\n",
    "calificacion_usuarios = total_rating.groupby(['userId']).count()\n",
    "calificacion_usuarios.head()"
   ]
  },
  {
   "cell_type": "code",
   "execution_count": 46,
   "metadata": {},
   "outputs": [
    {
     "data": {
      "image/png": "[encoded data removed]",
      "text/plain": [
       "<Figure size 432x288 with 1 Axes>"
      ]
     },
     "metadata": {
      "needs_background": "light"
     },
     "output_type": "display_data"
    }
   ],
   "source": [
    "plt.hist(calificacion_usuarios.score, log=True)\n",
    "plt.title('Calificaciones por usuario')\n",
    "plt.show()"
   ]
  },
  {
   "cell_type": "code",
   "execution_count": 66,
   "metadata": {},
   "outputs": [
    {
     "data": {
      "text/html": [
       "<div>\n",
       "<style scoped>\n",
       "    .dataframe tbody tr th:only-of-type {\n",
       "        vertical-align: middle;\n",
       "    }\n",
       "\n",
       "    .dataframe tbody tr th {\n",
       "        vertical-align: top;\n",
       "    }\n",
       "\n",
       "    .dataframe thead th {\n",
       "        text-align: right;\n",
       "    }\n",
       "</style>\n",
       "<table border=\"1\" class=\"dataframe\">\n",
       "  <thead>\n",
       "    <tr style=\"text-align: right;\">\n",
       "      <th></th>\n",
       "      <th>userId</th>\n",
       "      <th>score</th>\n",
       "      <th>timestamp</th>\n",
       "    </tr>\n",
       "    <tr>\n",
       "      <th>movieId</th>\n",
       "      <th></th>\n",
       "      <th></th>\n",
       "      <th></th>\n",
       "    </tr>\n",
       "  </thead>\n",
       "  <tbody>\n",
       "    <tr>\n",
       "      <th>as1</th>\n",
       "      <td>502</td>\n",
       "      <td>502</td>\n",
       "      <td>502</td>\n",
       "    </tr>\n",
       "    <tr>\n",
       "      <th>as10</th>\n",
       "      <td>513</td>\n",
       "      <td>513</td>\n",
       "      <td>513</td>\n",
       "    </tr>\n",
       "    <tr>\n",
       "      <th>as100</th>\n",
       "      <td>430</td>\n",
       "      <td>430</td>\n",
       "      <td>430</td>\n",
       "    </tr>\n",
       "    <tr>\n",
       "      <th>as1000</th>\n",
       "      <td>485</td>\n",
       "      <td>485</td>\n",
       "      <td>485</td>\n",
       "    </tr>\n",
       "    <tr>\n",
       "      <th>as1001</th>\n",
       "      <td>469</td>\n",
       "      <td>469</td>\n",
       "      <td>469</td>\n",
       "    </tr>\n",
       "  </tbody>\n",
       "</table>\n",
       "</div>"
      ],
      "text/plain": [
       "         userId  score  timestamp\n",
       "movieId                          \n",
       "as1         502    502        502\n",
       "as10        513    513        513\n",
       "as100       430    430        430\n",
       "as1000      485    485        485\n",
       "as1001      469    469        469"
      ]
     },
     "execution_count": 66,
     "metadata": {},
     "output_type": "execute_result"
    }
   ],
   "source": [
    "#cantidad de calificaciones por movieId\n",
    "cantidad_calificaciones = total_rating.groupby(['movieId']).count()\n",
    "cantidad_calificaciones.head()"
   ]
  },
  {
   "cell_type": "code",
   "execution_count": 130,
   "metadata": {},
   "outputs": [
    {
     "data": {
      "text/html": [
       "<div>\n",
       "<style scoped>\n",
       "    .dataframe tbody tr th:only-of-type {\n",
       "        vertical-align: middle;\n",
       "    }\n",
       "\n",
       "    .dataframe tbody tr th {\n",
       "        vertical-align: top;\n",
       "    }\n",
       "\n",
       "    .dataframe thead th {\n",
       "        text-align: right;\n",
       "    }\n",
       "</style>\n",
       "<table border=\"1\" class=\"dataframe\">\n",
       "  <thead>\n",
       "    <tr style=\"text-align: right;\">\n",
       "      <th></th>\n",
       "      <th>id</th>\n",
       "      <th>userId</th>\n",
       "      <th>puntuaciones</th>\n",
       "      <th>timestamp</th>\n",
       "    </tr>\n",
       "  </thead>\n",
       "  <tbody>\n",
       "    <tr>\n",
       "      <th>0</th>\n",
       "      <td>as4197</td>\n",
       "      <td>576</td>\n",
       "      <td>576</td>\n",
       "      <td>576</td>\n",
       "    </tr>\n",
       "    <tr>\n",
       "      <th>1</th>\n",
       "      <td>as9065</td>\n",
       "      <td>560</td>\n",
       "      <td>560</td>\n",
       "      <td>560</td>\n",
       "    </tr>\n",
       "    <tr>\n",
       "      <th>2</th>\n",
       "      <td>ns7279</td>\n",
       "      <td>558</td>\n",
       "      <td>558</td>\n",
       "      <td>558</td>\n",
       "    </tr>\n",
       "    <tr>\n",
       "      <th>3</th>\n",
       "      <td>as848</td>\n",
       "      <td>558</td>\n",
       "      <td>558</td>\n",
       "      <td>558</td>\n",
       "    </tr>\n",
       "    <tr>\n",
       "      <th>4</th>\n",
       "      <td>hs2360</td>\n",
       "      <td>556</td>\n",
       "      <td>556</td>\n",
       "      <td>556</td>\n",
       "    </tr>\n",
       "  </tbody>\n",
       "</table>\n",
       "</div>"
      ],
      "text/plain": [
       "       id  userId  puntuaciones  timestamp\n",
       "0  as4197     576           576        576\n",
       "1  as9065     560           560        560\n",
       "2  ns7279     558           558        558\n",
       "3   as848     558           558        558\n",
       "4  hs2360     556           556        556"
      ]
     },
     "execution_count": 130,
     "metadata": {},
     "output_type": "execute_result"
    }
   ],
   "source": [
    "#Las 5 peliculas/series mas calificadas\n",
    "top_mas_score= cantidad_calificaciones.sort_values('score', ascending=False).head()\n",
    "top_mas_score.reset_index(drop=False, inplace=True) #acomodo el indice\n",
    "top_mas_score.rename({'score' : 'puntuaciones'} , axis= 1, inplace=True) #renombro columna\n",
    "top_mas_score.rename({'movieId':'id'},axis=1, inplace=True)\n",
    "top_mas_score\n"
   ]
  },
  {
   "cell_type": "code",
   "execution_count": 141,
   "metadata": {},
   "outputs": [
    {
     "data": {
      "text/html": [
       "<div>\n",
       "<style scoped>\n",
       "    .dataframe tbody tr th:only-of-type {\n",
       "        vertical-align: middle;\n",
       "    }\n",
       "\n",
       "    .dataframe tbody tr th {\n",
       "        vertical-align: top;\n",
       "    }\n",
       "\n",
       "    .dataframe thead th {\n",
       "        text-align: right;\n",
       "    }\n",
       "</style>\n",
       "<table border=\"1\" class=\"dataframe\">\n",
       "  <thead>\n",
       "    <tr style=\"text-align: right;\">\n",
       "      <th></th>\n",
       "      <th>id</th>\n",
       "      <th>type</th>\n",
       "      <th>title</th>\n",
       "      <th>puntuaciones</th>\n",
       "      <th>listed_in</th>\n",
       "    </tr>\n",
       "  </thead>\n",
       "  <tbody>\n",
       "    <tr>\n",
       "      <th>0</th>\n",
       "      <td>as4197</td>\n",
       "      <td>movie</td>\n",
       "      <td>from other worlds</td>\n",
       "      <td>576</td>\n",
       "      <td>comedy, science fiction</td>\n",
       "    </tr>\n",
       "    <tr>\n",
       "      <th>1</th>\n",
       "      <td>as9065</td>\n",
       "      <td>movie</td>\n",
       "      <td>the organization</td>\n",
       "      <td>560</td>\n",
       "      <td>action, drama</td>\n",
       "    </tr>\n",
       "    <tr>\n",
       "      <th>2</th>\n",
       "      <td>ns7279</td>\n",
       "      <td>movie</td>\n",
       "      <td>leapfrog: sing-along, read-along</td>\n",
       "      <td>558</td>\n",
       "      <td>children &amp; family movies</td>\n",
       "    </tr>\n",
       "    <tr>\n",
       "      <th>3</th>\n",
       "      <td>as848</td>\n",
       "      <td>tv show</td>\n",
       "      <td>superbook</td>\n",
       "      <td>558</td>\n",
       "      <td>animation, faith and spirituality, kids</td>\n",
       "    </tr>\n",
       "    <tr>\n",
       "      <th>4</th>\n",
       "      <td>hs2360</td>\n",
       "      <td>tv show</td>\n",
       "      <td>dietland</td>\n",
       "      <td>556</td>\n",
       "      <td>comedy, drama</td>\n",
       "    </tr>\n",
       "  </tbody>\n",
       "</table>\n",
       "</div>"
      ],
      "text/plain": [
       "       id     type                             title  puntuaciones  \\\n",
       "0  as4197    movie                 from other worlds           576   \n",
       "1  as9065    movie                  the organization           560   \n",
       "2  ns7279    movie  leapfrog: sing-along, read-along           558   \n",
       "3   as848  tv show                         superbook           558   \n",
       "4  hs2360  tv show                          dietland           556   \n",
       "\n",
       "                                 listed_in  \n",
       "0                  comedy, science fiction  \n",
       "1                            action, drama  \n",
       "2                 children & family movies  \n",
       "3  animation, faith and spirituality, kids  \n",
       "4                            comedy, drama  "
      ]
     },
     "execution_count": 141,
     "metadata": {},
     "output_type": "execute_result"
    }
   ],
   "source": [
    "mask_top= total_plataformas[['id','type','title','listed_in']][total_plataformas.id.isin(top_mas_score.id)]\n",
    "title_topmas= top_mas_score.merge(mask_top, on='id', how='left')\n",
    "title_topmas[['id','type','title','puntuaciones','listed_in']]\n",
    "\n"
   ]
  },
  {
   "cell_type": "code",
   "execution_count": 142,
   "metadata": {},
   "outputs": [
    {
     "data": {
      "text/html": [
       "<div>\n",
       "<style scoped>\n",
       "    .dataframe tbody tr th:only-of-type {\n",
       "        vertical-align: middle;\n",
       "    }\n",
       "\n",
       "    .dataframe tbody tr th {\n",
       "        vertical-align: top;\n",
       "    }\n",
       "\n",
       "    .dataframe thead th {\n",
       "        text-align: right;\n",
       "    }\n",
       "</style>\n",
       "<table border=\"1\" class=\"dataframe\">\n",
       "  <thead>\n",
       "    <tr style=\"text-align: right;\">\n",
       "      <th></th>\n",
       "      <th>id</th>\n",
       "      <th>type</th>\n",
       "      <th>title</th>\n",
       "      <th>puntuaciones</th>\n",
       "      <th>listed_in</th>\n",
       "    </tr>\n",
       "  </thead>\n",
       "  <tbody>\n",
       "    <tr>\n",
       "      <th>0</th>\n",
       "      <td>as4940</td>\n",
       "      <td>movie</td>\n",
       "      <td>mitzi (nbc 1968)</td>\n",
       "      <td>396</td>\n",
       "      <td>arts, entertainment, and culture, music videos...</td>\n",
       "    </tr>\n",
       "    <tr>\n",
       "      <th>1</th>\n",
       "      <td>ns2144</td>\n",
       "      <td>movie</td>\n",
       "      <td>rob schneider: asian momma, mexican kids</td>\n",
       "      <td>399</td>\n",
       "      <td>stand-up comedy</td>\n",
       "    </tr>\n",
       "    <tr>\n",
       "      <th>2</th>\n",
       "      <td>hs1711</td>\n",
       "      <td>movie</td>\n",
       "      <td>i am alone</td>\n",
       "      <td>401</td>\n",
       "      <td>action, adventure, horror</td>\n",
       "    </tr>\n",
       "    <tr>\n",
       "      <th>3</th>\n",
       "      <td>ns6535</td>\n",
       "      <td>movie</td>\n",
       "      <td>cop and a half: new recruit</td>\n",
       "      <td>402</td>\n",
       "      <td>children &amp; family movies, comedies</td>\n",
       "    </tr>\n",
       "    <tr>\n",
       "      <th>4</th>\n",
       "      <td>hs599</td>\n",
       "      <td>tv show</td>\n",
       "      <td>dave</td>\n",
       "      <td>404</td>\n",
       "      <td>comedy, sitcom</td>\n",
       "    </tr>\n",
       "  </tbody>\n",
       "</table>\n",
       "</div>"
      ],
      "text/plain": [
       "       id     type                                     title  puntuaciones  \\\n",
       "0  as4940    movie                          mitzi (nbc 1968)           396   \n",
       "1  ns2144    movie  rob schneider: asian momma, mexican kids           399   \n",
       "2  hs1711    movie                                i am alone           401   \n",
       "3  ns6535    movie               cop and a half: new recruit           402   \n",
       "4   hs599  tv show                                      dave           404   \n",
       "\n",
       "                                           listed_in  \n",
       "0  arts, entertainment, and culture, music videos...  \n",
       "1                                    stand-up comedy  \n",
       "2                          action, adventure, horror  \n",
       "3                 children & family movies, comedies  \n",
       "4                                     comedy, sitcom  "
      ]
     },
     "execution_count": 142,
     "metadata": {},
     "output_type": "execute_result"
    }
   ],
   "source": [
    "#Las 5 peliculas/series menos calificadas\n",
    "top_menos_score= cantidad_calificaciones.sort_values('score',).head()\n",
    "top_menos_score.reset_index(drop=False, inplace=True) #acomodo el indice\n",
    "top_menos_score.rename({'score' : 'puntuaciones'} , axis= 1, inplace=True) #renombro columna\n",
    "top_menos_score.rename({'movieId':'id'},axis=1, inplace=True)\n",
    "mask_top= total_plataformas[['id','type','title','listed_in']][total_plataformas.id.isin(top_menos_score.id)]\n",
    "title_topmenos= top_menos_score.merge(mask_top, on='id', how='left')\n",
    "title_topmenos[['id','type','title','puntuaciones','listed_in']]"
   ]
  }
 ],
 "metadata": {
  "kernelspec": {
   "display_name": "Python 3",
   "language": "python",
   "name": "python3"
  },
  "language_info": {
   "codemirror_mode": {
    "name": "ipython",
    "version": 3
   },
   "file_extension": ".py",
   "mimetype": "text/x-python",
   "name": "python",
   "nbconvert_exporter": "python",
   "pygments_lexer": "ipython3",
   "version": "3.10.5"
  },
  "orig_nbformat": 4
 },
 "nbformat": 4,
 "nbformat_minor": 2
}
