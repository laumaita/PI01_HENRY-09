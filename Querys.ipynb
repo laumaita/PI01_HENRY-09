{
 "cells": [
  {
   "cell_type": "code",
   "execution_count": 1,
   "metadata": {},
   "outputs": [],
   "source": [
    "import pandas as pd\n",
    "import numpy as np"
   ]
  },
  {
   "cell_type": "code",
   "execution_count": 2,
   "metadata": {},
   "outputs": [],
   "source": [
    "df_net= pd.read_csv('transformacion_netflix.csv', delimiter=',', encoding='utf-8')\n",
    "df_dis= pd.read_csv('transformacion_disney.csv', delimiter=',', encoding='utf-8')\n",
    "df_hulu= pd.read_csv('transformacion_hulu.csv', delimiter=',', encoding='utf-8')\n",
    "df_amazon= pd.read_csv('transformacion_amazon.csv', delimiter=',', encoding='utf-8')\n",
    "\n"
   ]
  },
  {
   "cell_type": "code",
   "execution_count": 3,
   "metadata": {},
   "outputs": [],
   "source": [
    "#creo un archivo gral\n",
    "df_plataformagral = pd.concat([df_net,df_hulu,df_amazon,df_dis])"
   ]
  },
  {
   "cell_type": "code",
   "execution_count": null,
   "metadata": {},
   "outputs": [],
   "source": [
    "#lo guardo\n",
    "df_plataformagral.to_csv('totalplataformas.csv', index=False)"
   ]
  },
  {
   "cell_type": "code",
   "execution_count": 3,
   "metadata": {},
   "outputs": [],
   "source": [
    "df_plataformagral = pd.read_csv('totalplataformas.csv', delimiter=',', encoding='utf-8')"
   ]
  },
  {
   "attachments": {},
   "cell_type": "markdown",
   "metadata": {},
   "source": [
    "Película (sólo película, no serie, etc) con mayor duración según año, plataforma y tipo de duración. La función debe llamarse get_max_duration(year, platform, duration_type) y debe devolver sólo la cadena del nombre de la película."
   ]
  },
  {
   "cell_type": "code",
   "execution_count": 5,
   "metadata": {},
   "outputs": [
    {
     "data": {
      "text/html": [
       "<div>\n",
       "<style scoped>\n",
       "    .dataframe tbody tr th:only-of-type {\n",
       "        vertical-align: middle;\n",
       "    }\n",
       "\n",
       "    .dataframe tbody tr th {\n",
       "        vertical-align: top;\n",
       "    }\n",
       "\n",
       "    .dataframe thead th {\n",
       "        text-align: right;\n",
       "    }\n",
       "</style>\n",
       "<table border=\"1\" class=\"dataframe\">\n",
       "  <thead>\n",
       "    <tr style=\"text-align: right;\">\n",
       "      <th></th>\n",
       "      <th>id</th>\n",
       "      <th>show_id</th>\n",
       "      <th>type</th>\n",
       "      <th>title</th>\n",
       "      <th>director</th>\n",
       "      <th>cast</th>\n",
       "      <th>country</th>\n",
       "      <th>date_added</th>\n",
       "      <th>release_year</th>\n",
       "      <th>rating</th>\n",
       "      <th>duration</th>\n",
       "      <th>listed_in</th>\n",
       "      <th>description</th>\n",
       "      <th>duration_int</th>\n",
       "      <th>duration_type</th>\n",
       "    </tr>\n",
       "  </thead>\n",
       "  <tbody>\n",
       "    <tr>\n",
       "      <th>6</th>\n",
       "      <td>ns7</td>\n",
       "      <td>s7</td>\n",
       "      <td>movie</td>\n",
       "      <td>my little pony: a new generation</td>\n",
       "      <td>robert cullen, josé luis ucha</td>\n",
       "      <td>vanessa hudgens, kimiko glenn, james marsden, ...</td>\n",
       "      <td>NaN</td>\n",
       "      <td>2021-09-24</td>\n",
       "      <td>2021</td>\n",
       "      <td>pg</td>\n",
       "      <td>91 min</td>\n",
       "      <td>children &amp; family movies</td>\n",
       "      <td>equestria's divided. but a bright-eyed hero be...</td>\n",
       "      <td>91.0</td>\n",
       "      <td>min</td>\n",
       "    </tr>\n",
       "    <tr>\n",
       "      <th>7</th>\n",
       "      <td>ns8</td>\n",
       "      <td>s8</td>\n",
       "      <td>movie</td>\n",
       "      <td>sankofa</td>\n",
       "      <td>haile gerima</td>\n",
       "      <td>kofi ghanaba, oyafunmike ogunlano, alexandra d...</td>\n",
       "      <td>united states, ghana, burkina faso, united kin...</td>\n",
       "      <td>2021-09-24</td>\n",
       "      <td>1993</td>\n",
       "      <td>tv-ma</td>\n",
       "      <td>125 min</td>\n",
       "      <td>dramas, independent movies, international movies</td>\n",
       "      <td>on a photo shoot in ghana, an american model s...</td>\n",
       "      <td>125.0</td>\n",
       "      <td>min</td>\n",
       "    </tr>\n",
       "  </tbody>\n",
       "</table>\n",
       "</div>"
      ],
      "text/plain": [
       "    id show_id   type                             title  \\\n",
       "6  ns7      s7  movie  my little pony: a new generation   \n",
       "7  ns8      s8  movie                           sankofa   \n",
       "\n",
       "                        director  \\\n",
       "6  robert cullen, josé luis ucha   \n",
       "7                   haile gerima   \n",
       "\n",
       "                                                cast  \\\n",
       "6  vanessa hudgens, kimiko glenn, james marsden, ...   \n",
       "7  kofi ghanaba, oyafunmike ogunlano, alexandra d...   \n",
       "\n",
       "                                             country  date_added  \\\n",
       "6                                                NaN  2021-09-24   \n",
       "7  united states, ghana, burkina faso, united kin...  2021-09-24   \n",
       "\n",
       "   release_year rating duration  \\\n",
       "6          2021     pg   91 min   \n",
       "7          1993  tv-ma  125 min   \n",
       "\n",
       "                                          listed_in  \\\n",
       "6                          children & family movies   \n",
       "7  dramas, independent movies, international movies   \n",
       "\n",
       "                                         description  duration_int  \\\n",
       "6  equestria's divided. but a bright-eyed hero be...          91.0   \n",
       "7  on a photo shoot in ghana, an american model s...         125.0   \n",
       "\n",
       "  duration_type  \n",
       "6           min  \n",
       "7           min  "
      ]
     },
     "execution_count": 5,
     "metadata": {},
     "output_type": "execute_result"
    }
   ],
   "source": [
    "#pruevo filtros\n",
    "clasificacion = df_plataformagral[ (df_plataformagral.type=='movie')\n",
    "& (df_plataformagral.listed_in!='documentaries')]\n",
    "clasificacion.head(2)"
   ]
  },
  {
   "cell_type": "code",
   "execution_count": 4,
   "metadata": {},
   "outputs": [],
   "source": [
    "\n",
    "def get_max_duration(year:int,platform:str,duration_type:str):\n",
    "    \n",
    "    #declaro parametros\n",
    "    if platform == 'netflix':\n",
    "        inicioId = 'n'\n",
    "    elif platform == 'hulu':\n",
    "        inicioId = 'h'\n",
    "    elif platform == 'disney':\n",
    "        inicioId = 'd'\n",
    "    elif platform == 'amazon':\n",
    "        inicioId = 'a'\n",
    "    else:\n",
    "        return 'no se encuentra plataforma, ingrear una de las opciones: netflix, hulu, disney o amazon'\n",
    "    \n",
    "\n",
    "    if duration_type == 'pelicula':\n",
    "        durationtype= 'movie' \n",
    "    else:\n",
    "        return 'ingresar parametro : pelicula' \n",
    "\n",
    "\n",
    "\n",
    "    filtro = df_plataformagral[ (df_plataformagral.type==durationtype) #filtro por peliculas\n",
    "                            & (df_plataformagral.id.str.contains(inicioId)) #filtro por primer letra de plataforma\n",
    "                            & (df_plataformagral.release_year==year)]  #filtro por el año\n",
    "\n",
    "    max = filtro['duration_int'].max() #guardo el valor maximo\n",
    "    filtro1 = filtro.query(\"duration_int==@max\") #consulto la duracion de ese valor\n",
    "    pelicula = filtro1['title'] #guardo lo que quiero que retorne\n",
    "    if  not pelicula.empty: #si segun los datos ingresados el dataframe no esta vacio\n",
    "        return {'pelicula': pelicula.iloc[0]}\n",
    "    else:\n",
    "        return 'Los datos ingresados no se encuentran en la base de datos'\n",
    "    "
   ]
  },
  {
   "cell_type": "code",
   "execution_count": 5,
   "metadata": {},
   "outputs": [
    {
     "data": {
      "text/plain": [
       "{'pelicula': 'cruella'}"
      ]
     },
     "execution_count": 5,
     "metadata": {},
     "output_type": "execute_result"
    }
   ],
   "source": [
    "get_max_duration(2021,'disney', 'pelicula') #verifico funcion"
   ]
  },
  {
   "attachments": {},
   "cell_type": "markdown",
   "metadata": {},
   "source": [
    "Cantidad de películas por plataforma con un puntaje mayor a XX en determinado año "
   ]
  },
  {
   "attachments": {},
   "cell_type": "markdown",
   "metadata": {},
   "source": [
    "Cantidad de películas (sólo películas, no series, etc.) según plataforma, con un puntaje mayor a XX en determinado año. La función debe llamarse get_score_count(plataforma, anotado, año) y debe devolver un int, con el total de películas que cumplen con lo solicitado."
   ]
  },
  {
   "cell_type": "code",
   "execution_count": 6,
   "metadata": {},
   "outputs": [],
   "source": [
    "df_score= pd.read_csv('score_movies.csv', delimiter=',', encoding='utf-8')\n",
    "#abro archivo solo con el score promedio por peliculas"
   ]
  },
  {
   "cell_type": "code",
   "execution_count": 8,
   "metadata": {},
   "outputs": [
    {
     "data": {
      "text/plain": [
       "398"
      ]
     },
     "execution_count": 8,
     "metadata": {},
     "output_type": "execute_result"
    }
   ],
   "source": [
    "#voy filtrando y verificando los algoritmos\n",
    "clasificacion = df_plataformagral[ (df_plataformagral.type=='movie')#busco  los id solo de las peliculas\n",
    "                                    & (df_plataformagral.id.str.contains('n')) #filtro por plataforma\n",
    "                                     & (df_plataformagral.release_year==2015)] #filtro por año\n",
    "consulta_score= df_score[(df_score.movieId.str.contains('n'))]#filtro por plataforma\n",
    "df_peliculas=consulta_score[consulta_score.movieId.isin(clasificacion.id)]#me quedo solo con los id que estan en ambos df\n",
    "total_peliculas= df_peliculas.score[df_peliculas.score > 1].count()#filtro por el puntaje mayor a xx del campo score y cuento los valores totales\n",
    "total_peliculas"
   ]
  },
  {
   "cell_type": "code",
   "execution_count": 8,
   "metadata": {},
   "outputs": [],
   "source": [
    "def get_score_count(platform, scored, year):  \n",
    "\n",
    "    import datetime\n",
    "\n",
    "    #declaro parametros\n",
    "    if platform == 'netflix':\n",
    "        plataforma = 'n'\n",
    "    elif platform == 'hulu':\n",
    "        plataforma = 'h'\n",
    "    elif platform == 'disney':\n",
    "        plataforma = 'd'\n",
    "    elif platform == 'amazon':\n",
    "        plataforma = 'a'\n",
    "    else:\n",
    "        return 'ingresar una de las opciones: netflix, hulu, amazon o disney'\n",
    "    \n",
    "    \n",
    "    clasificacion = df_plataformagral[ (df_plataformagral.type=='movie')#busco  solo las peliculas\n",
    "                                        & (df_plataformagral.id.str.contains(plataforma)) #filtro por plataforma\n",
    "                                        & (df_plataformagral.release_year==year)]  #filtro por el año\n",
    "                                        \n",
    "\n",
    "    consulta_score= df_score[(df_score.movieId.str.contains(plataforma))] #filtro por plataforma \n",
    "    df_peliculas=consulta_score[consulta_score.movieId.isin(clasificacion.id)]#me quedo solo con los id que estan en ambos df\n",
    "    total_peliculas = df_peliculas.score[df_peliculas.score >scored].count()#filtro por el puntaje mayor a xx del campo score y cuento los valores totales\n",
    "\n",
    "\n",
    "    return {'plataforma' : platform , 'cantidad': total_peliculas, 'anio' : year, 'score' : scored}"
   ]
  },
  {
   "cell_type": "code",
   "execution_count": 9,
   "metadata": {},
   "outputs": [
    {
     "data": {
      "text/plain": [
       "{'plataforma': 'netflix', 'cantidad': 398, 'anio': 2015, 'score': 1}"
      ]
     },
     "execution_count": 9,
     "metadata": {},
     "output_type": "execute_result"
    }
   ],
   "source": [
    "get_score_count('netflix', 1, 2015)"
   ]
  },
  {
   "attachments": {},
   "cell_type": "markdown",
   "metadata": {},
   "source": [
    "Cantidad de películas (sólo películas, no series, etc) según plataforma. La función debe llamarse get_count_platform(platform) y debe devolver un int, con el número total de películas de esa plataforma. Las plataformas deben llamarse amazon, netflix, hulu, disney."
   ]
  },
  {
   "cell_type": "code",
   "execution_count": 10,
   "metadata": {},
   "outputs": [],
   "source": [
    "def get_count_platform(platform): \n",
    "\n",
    "    #Declaro parametros\n",
    "    if platform == 'netflix':\n",
    "        plataforma = 'n'\n",
    "    elif platform == 'hulu':\n",
    "        plataforma= 'h'\n",
    "    elif platform == 'disney':\n",
    "        plataforma= 'd'\n",
    "    elif platform == 'amazon':\n",
    "        plataforma= 'a'\n",
    "    else:\n",
    "        return print('ingrese plataforma: amazon, disney, hulu o netflix')\n",
    "\n",
    "   \n",
    "\n",
    "    consulta_plataforma= df_plataformagral[(df_plataformagral.id.str.contains(plataforma))#filtro por plataforma\n",
    "                                           & (df_plataformagral.type=='movie')]#filtro por peliculas\n",
    "\n",
    "                                           \n",
    "    conteo_movies= consulta_plataforma.title.count()#cuento\n",
    "    return { 'plataforma': platform, 'peliculas': conteo_movies}"
   ]
  },
  {
   "cell_type": "code",
   "execution_count": 11,
   "metadata": {},
   "outputs": [
    {
     "data": {
      "text/plain": [
       "{'plataforma': 'netflix', 'peliculas': 6131}"
      ]
     },
     "execution_count": 11,
     "metadata": {},
     "output_type": "execute_result"
    }
   ],
   "source": [
    "get_count_platform('netflix')"
   ]
  },
  {
   "attachments": {},
   "cell_type": "markdown",
   "metadata": {},
   "source": [
    "Actor que más se repite según plataforma y año. La función debe llamarse get_actor(platform, year) y debe devolver sólo la cadena con el nombre del actor que más se repite según la plataforma y el año dado."
   ]
  },
  {
   "cell_type": "code",
   "execution_count": 231,
   "metadata": {},
   "outputs": [
    {
     "data": {
      "text/plain": [
       "5"
      ]
     },
     "execution_count": 231,
     "metadata": {},
     "output_type": "execute_result"
    }
   ],
   "source": [
    "#verifico algoritmos\n",
    "filtroplat = df_plataformagral[(df_plataformagral.id.str.contains('n'))\n",
    "                                & (df_plataformagral.release_year==2015)] #filtro por año y plataforma\n",
    "lista= filtroplat['cast']\n",
    "newlista = [x for x in lista if pd.isnull(x) == False]\n",
    "lista_cast=[]\n",
    "for i in newlista: #itero para separar actores en diferentes str\n",
    "    separador= i.split(sep=',')\n",
    "    for j in separador: #itero para eliminar espacios en cada nuevo str y agregar a lista\n",
    "        valores=j.strip()\n",
    "        lista_cast.append(valores) #agrego valores a lista_cast\n",
    "    df_lista_cast= pd.Series(lista_cast) #transformo a dataframe\n",
    "df_lista_cast.value_counts().max()"
   ]
  },
  {
   "cell_type": "code",
   "execution_count": 12,
   "metadata": {},
   "outputs": [],
   "source": [
    "def get_actor(platform, year): \n",
    "\n",
    "    #declaro parametros\n",
    "    if platform == 'netflix':\n",
    "        plataforma= 'n'\n",
    "    elif platform == 'disney':\n",
    "        plataforma= 'd'\n",
    "    elif platform == 'hulu':\n",
    "        plataforma= 'h'\n",
    "    elif platform == 'amazon':\n",
    "        plataforma= 'a'\n",
    "    else:\n",
    "        return 'ingresar plataforma valida: amazon, disney, hulu o netflix'\n",
    "\n",
    "\n",
    "    filtroplat = df_plataformagral[(df_plataformagral.id.str.contains(plataforma))\n",
    "                                   & (df_plataformagral.release_year==year)] #filtro por año y plataforma\n",
    "\n",
    "    if filtroplat.empty: #si devuelve df vacio\n",
    "        \n",
    "        return 'el año no se encuentra en el dataset'\n",
    "    else:\n",
    "        lista= filtroplat['cast'] #guardo en nueva variable los actores por peliculas\n",
    "        newlista = [x for x in lista if pd.isnull(x) == False]#elimino flotantes\n",
    "\n",
    "        lista_cast=[]\n",
    "        for i in newlista: #itero para separar actores en diferentes str\n",
    "            separador= i.split(sep=',')\n",
    "            for j in separador: #itero para eliminar espacios en cada nuevo str y agregar a lista\n",
    "                    valores=j.strip()\n",
    "                    lista_cast.append(valores) #agrego valores a lista_cast\n",
    "        df_lista_cast= pd.Series(lista_cast) #transformo a dataframe\n",
    "        return {'plataforma': platform, 'anio': year, 'actor' : df_lista_cast.value_counts().idxmax(), 'apariciones' : df_lista_cast.value_counts().max()} #imprimo copnsulta del str mas repetido"
   ]
  },
  {
   "cell_type": "code",
   "execution_count": 13,
   "metadata": {},
   "outputs": [
    {
     "data": {
      "text/plain": [
       "{'plataforma': 'netflix',\n",
       " 'anio': 2015,\n",
       " 'actor': 'james franco',\n",
       " 'apariciones': 5}"
      ]
     },
     "execution_count": 13,
     "metadata": {},
     "output_type": "execute_result"
    }
   ],
   "source": [
    "get_actor('netflix', 2015)"
   ]
  },
  {
   "attachments": {},
   "cell_type": "markdown",
   "metadata": {},
   "source": [
    "La cantidad de contenidos/productos (todo lo disponible en streaming) que se publicó por país y año. La función debe llamarse prod_per_county(tipo,pais,anio) deberia devolver la cantidada de contenidos/productos segun el tipo de contenido (pelicula,serie) por pais y año en un diccionario con las variables llamadas 'pais' (nombre del pais), 'anio' (año), 'pelicula' (cantidad de contenidos/productos)."
   ]
  },
  {
   "cell_type": "code",
   "execution_count": 33,
   "metadata": {},
   "outputs": [],
   "source": [
    "pais= 'canada'"
   ]
  },
  {
   "cell_type": "code",
   "execution_count": 35,
   "metadata": {},
   "outputs": [
    {
     "data": {
      "text/plain": [
       "38"
      ]
     },
     "execution_count": 35,
     "metadata": {},
     "output_type": "execute_result"
    }
   ],
   "source": [
    "prueba= filtro_anioytipo[filtro_anioytipo.country.str.contains(pais)]\n",
    "prueba.type.count()"
   ]
  },
  {
   "cell_type": "code",
   "execution_count": 37,
   "metadata": {},
   "outputs": [
    {
     "data": {
      "text/plain": [
       "(38, 15)"
      ]
     },
     "execution_count": 37,
     "metadata": {},
     "output_type": "execute_result"
    }
   ],
   "source": [
    "prueba.shape"
   ]
  },
  {
   "cell_type": "code",
   "execution_count": 30,
   "metadata": {},
   "outputs": [],
   "source": [
    "filtro_anioytipo=df_plataformagral[(df_plataformagral.type=='movie') \n",
    "                                    & (df_plataformagral.release_year==2015)\n",
    "                                    & (df_plataformagral.country.notnull())]\n"
   ]
  },
  {
   "cell_type": "code",
   "execution_count": 38,
   "metadata": {},
   "outputs": [
    {
     "data": {
      "text/plain": [
       "id                   0\n",
       "show_id              0\n",
       "type                 0\n",
       "title                0\n",
       "director          8259\n",
       "cast              5321\n",
       "country          11499\n",
       "date_added       10982\n",
       "release_year         0\n",
       "rating               0\n",
       "duration           482\n",
       "listed_in            0\n",
       "description          4\n",
       "duration_int       482\n",
       "duration_type      482\n",
       "dtype: int64"
      ]
     },
     "execution_count": 38,
     "metadata": {},
     "output_type": "execute_result"
    }
   ],
   "source": [
    "df_plataformagral.isna().sum()"
   ]
  },
  {
   "cell_type": "code",
   "execution_count": 54,
   "metadata": {},
   "outputs": [],
   "source": [
    "def prod_per_county(tipo,pais,anio):\n",
    "\n",
    "    #declaramos parametros\n",
    "    \n",
    "    if tipo == 'peliculas' :\n",
    "        variable_tipo= 'movie'\n",
    "    elif tipo == 'series':\n",
    "        variable_tipo= 'tv show'\n",
    "    else:\n",
    "        return 'ingresar parametro : peliculas o series'\n",
    "\n",
    "    filtro=df_plataformagral[(df_plataformagral.type=='movie') #filtro solo peliculas\n",
    "                                    & (df_plataformagral.release_year==anio) #filtro por año\n",
    "                                    & (df_plataformagral.country.notnull())#quitamos los nulos\n",
    "                                    & (df_plataformagral.country.str.contains(pais))]#filtramos por el pais ingresado\n",
    "\n",
    "    respuesta= filtro.type.count()#contamos el total del contenido\n",
    "\n",
    "    return {'pais': pais, 'anio': anio, variable_tipo: respuesta}"
   ]
  },
  {
   "cell_type": "code",
   "execution_count": 68,
   "metadata": {},
   "outputs": [
    {
     "data": {
      "text/plain": [
       "{'pais': 'canada', 'anio': 2020, 'movie': 30}"
      ]
     },
     "execution_count": 68,
     "metadata": {},
     "output_type": "execute_result"
    }
   ],
   "source": [
    "prod_per_county('peliculas', 'canada', 2020)"
   ]
  },
  {
   "attachments": {},
   "cell_type": "markdown",
   "metadata": {},
   "source": [
    "La cantidad total de contenidos/productos (todo lo disponible en streaming, series, peliculas, etc) según el rating de audiencia dado (para que publico fue clasificada la pelicula). La función debe llamarse get_contents(rating) y debe devolver el numero total de contenido con ese rating de audiencias."
   ]
  },
  {
   "cell_type": "code",
   "execution_count": 81,
   "metadata": {},
   "outputs": [
    {
     "data": {
      "text/plain": [
       "1269"
      ]
     },
     "execution_count": 81,
     "metadata": {},
     "output_type": "execute_result"
    }
   ],
   "source": [
    "#realizo pruevas\n",
    "rating= 'g'\n",
    "df_plataformagral.type[df_plataformagral.rating==rating].count()"
   ]
  },
  {
   "cell_type": "code",
   "execution_count": 10,
   "metadata": {},
   "outputs": [
    {
     "data": {
      "text/plain": [
       "array(['pg-13', 'tv-ma', 'pg', 'tv-14', 'tv-pg', 'tv-y', 'tv-y7', 'r',\n",
       "       'tv-g', 'g', 'nc-17', '74 min', '84 min', '66 min', 'nr',\n",
       "       'tv-y7-fv', 'ur', 'not rated', '2 seasons', '93 min', '4 seasons',\n",
       "       '136 min', '91 min', '85 min', '98 min', '89 min', '94 min',\n",
       "       '86 min', '3 seasons', '121 min', '88 min', '101 min', '1 season',\n",
       "       '83 min', '100 min', '95 min', '92 min', '96 min', '109 min',\n",
       "       '99 min', '75 min', '87 min', '67 min', '104 min', '107 min',\n",
       "       '103 min', '105 min', '119 min', '114 min', '82 min', '90 min',\n",
       "       '130 min', '110 min', '80 min', '6 seasons', '97 min', '111 min',\n",
       "       '81 min', '49 min', '45 min', '41 min', '73 min', '40 min',\n",
       "       '36 min', '39 min', '34 min', '47 min', '65 min', '37 min',\n",
       "       '78 min', '102 min', '129 min', '115 min', '112 min', '61 min',\n",
       "       '106 min', '76 min', '77 min', '79 min', '157 min', '28 min',\n",
       "       '64 min', '7 min', '5 min', '6 min', '127 min', '142 min',\n",
       "       '108 min', '57 min', '118 min', '116 min', '12 seasons', '71 min',\n",
       "       '13+', 'all', '18+', '16+', '7+', 'tv-nr', 'unrated', '16',\n",
       "       'ages_16_', 'ages_18_', 'all_ages', 'not_rate'], dtype=object)"
      ]
     },
     "execution_count": 10,
     "metadata": {},
     "output_type": "execute_result"
    }
   ],
   "source": [
    "#verificamos los valores unicos del campor rating\n",
    "df_plataformagral.rating.unique()"
   ]
  },
  {
   "cell_type": "code",
   "execution_count": 95,
   "metadata": {},
   "outputs": [],
   "source": [
    "def get_contents(rating):\n",
    "    \n",
    "    total_contenido= df_plataformagral.type[df_plataformagral.rating==rating].count()\n",
    "\n",
    "\n",
    "    if total_contenido == 0 :\n",
    "        return {'ingresar una de las sigientes categorias ' : '''pg-13', 'tv-ma', 'pg', 'tv-14', 'tv-pg', 'tv-y', 'tv-y7', 'r','tv-g', 'g', 'nc-17', 'nr','tv-y7-fv', 'ur', 'not rated','13+', 'all', '18+','16+', '7+', 'tv-nr', 'unrated', '16','ages_16_', 'ages_18_', 'all_ages', 'not_rate'''}\n",
    "    else:\n",
    "        return {'rating': rating, 'contenido' : total_contenido}\n"
   ]
  },
  {
   "cell_type": "code",
   "execution_count": 97,
   "metadata": {},
   "outputs": [
    {
     "data": {
      "text/plain": [
       "{'rating': 'g', 'contenido': 1269}"
      ]
     },
     "execution_count": 97,
     "metadata": {},
     "output_type": "execute_result"
    }
   ],
   "source": [
    "get_contents('g')"
   ]
  }
 ],
 "metadata": {
  "kernelspec": {
   "display_name": "Python 3",
   "language": "python",
   "name": "python3"
  },
  "language_info": {
   "codemirror_mode": {
    "name": "ipython",
    "version": 3
   },
   "file_extension": ".py",
   "mimetype": "text/x-python",
   "name": "python",
   "nbconvert_exporter": "python",
   "pygments_lexer": "ipython3",
   "version": "3.10.5"
  },
  "orig_nbformat": 4
 },
 "nbformat": 4,
 "nbformat_minor": 2
}
