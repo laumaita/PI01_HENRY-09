{
 "cells": [
  {
   "cell_type": "code",
   "execution_count": 1,
   "metadata": {},
   "outputs": [],
   "source": [
    "import pandas as pd\n",
    "import numpy as np"
   ]
  },
  {
   "cell_type": "code",
   "execution_count": 2,
   "metadata": {},
   "outputs": [],
   "source": [
    "df_net= pd.read_csv('transformacion_netflix.csv', delimiter=',', encoding='utf-8')\n",
    "df_dis= pd.read_csv('transformacion_disney.csv', delimiter=',', encoding='utf-8')\n",
    "df_hulu= pd.read_csv('transformacion_hulu.csv', delimiter=',', encoding='utf-8')\n",
    "df_amazon= pd.read_csv('transformacion_amazon.csv', delimiter=',', encoding='utf-8')\n",
    "#df_ratings=pd.read_csv('transformacion_ratings.csv', delimiter=',', encoding='utf-8')\n"
   ]
  },
  {
   "cell_type": "code",
   "execution_count": 3,
   "metadata": {},
   "outputs": [],
   "source": [
    "#creo un archivo gral\n",
    "df_plataformagral = pd.concat([df_net,df_hulu,df_amazon,df_dis])"
   ]
  },
  {
   "cell_type": "code",
   "execution_count": 2,
   "metadata": {},
   "outputs": [
    {
     "ename": "NameError",
     "evalue": "name 'df_plataformagral' is not defined",
     "output_type": "error",
     "traceback": [
      "\u001b[1;31m---------------------------------------------------------------------------\u001b[0m",
      "\u001b[1;31mNameError\u001b[0m                                 Traceback (most recent call last)",
      "\u001b[1;32mc:\\Users\\LENOVO\\Desktop\\PI01_LABS#09\\Querys.ipynb Celda 4\u001b[0m in \u001b[0;36m<cell line: 2>\u001b[1;34m()\u001b[0m\n\u001b[0;32m      <a href='vscode-notebook-cell:/c%3A/Users/LENOVO/Desktop/PI01_LABS%2309/Querys.ipynb#W3sZmlsZQ%3D%3D?line=0'>1</a>\u001b[0m \u001b[39m#lo guardo\u001b[39;00m\n\u001b[1;32m----> <a href='vscode-notebook-cell:/c%3A/Users/LENOVO/Desktop/PI01_LABS%2309/Querys.ipynb#W3sZmlsZQ%3D%3D?line=1'>2</a>\u001b[0m df_plataformagral\u001b[39m.\u001b[39mto_csv(\u001b[39m'\u001b[39m\u001b[39mtotalplataformas.csv\u001b[39m\u001b[39m'\u001b[39m, index\u001b[39m=\u001b[39m\u001b[39mFalse\u001b[39;00m)\n",
      "\u001b[1;31mNameError\u001b[0m: name 'df_plataformagral' is not defined"
     ]
    }
   ],
   "source": [
    "#lo guardo\n",
    "df_plataformagral.to_csv('totalplataformas.csv', index=False)"
   ]
  },
  {
   "cell_type": "code",
   "execution_count": 3,
   "metadata": {},
   "outputs": [],
   "source": [
    "df_plataformagral = pd.read_csv('totalplataformas.csv', delimiter=',', encoding='utf-8')"
   ]
  },
  {
   "attachments": {},
   "cell_type": "markdown",
   "metadata": {},
   "source": [
    "Película (sólo película, no serie, etc) con mayor duración según año, plataforma y tipo de duración. La función debe llamarse get_max_duration(year, platform, duration_type) y debe devolver sólo la cadena del nombre de la película."
   ]
  },
  {
   "cell_type": "code",
   "execution_count": 138,
   "metadata": {},
   "outputs": [
    {
     "data": {
      "text/html": [
       "<div>\n",
       "<style scoped>\n",
       "    .dataframe tbody tr th:only-of-type {\n",
       "        vertical-align: middle;\n",
       "    }\n",
       "\n",
       "    .dataframe tbody tr th {\n",
       "        vertical-align: top;\n",
       "    }\n",
       "\n",
       "    .dataframe thead th {\n",
       "        text-align: right;\n",
       "    }\n",
       "</style>\n",
       "<table border=\"1\" class=\"dataframe\">\n",
       "  <thead>\n",
       "    <tr style=\"text-align: right;\">\n",
       "      <th></th>\n",
       "      <th>id</th>\n",
       "      <th>show_id</th>\n",
       "      <th>type</th>\n",
       "      <th>title</th>\n",
       "      <th>director</th>\n",
       "      <th>cast</th>\n",
       "      <th>country</th>\n",
       "      <th>date_added</th>\n",
       "      <th>release_year</th>\n",
       "      <th>rating</th>\n",
       "      <th>duration</th>\n",
       "      <th>listed_in</th>\n",
       "      <th>description</th>\n",
       "      <th>duration_int</th>\n",
       "      <th>duration_type</th>\n",
       "    </tr>\n",
       "  </thead>\n",
       "  <tbody>\n",
       "    <tr>\n",
       "      <th>6</th>\n",
       "      <td>ns7</td>\n",
       "      <td>s7</td>\n",
       "      <td>movie</td>\n",
       "      <td>my little pony: a new generation</td>\n",
       "      <td>robert cullen, josé luis ucha</td>\n",
       "      <td>vanessa hudgens, kimiko glenn, james marsden, ...</td>\n",
       "      <td>NaN</td>\n",
       "      <td>2021-09-24</td>\n",
       "      <td>2021</td>\n",
       "      <td>pg</td>\n",
       "      <td>91 min</td>\n",
       "      <td>children &amp; family movies</td>\n",
       "      <td>equestria's divided. but a bright-eyed hero be...</td>\n",
       "      <td>91.0</td>\n",
       "      <td>min</td>\n",
       "    </tr>\n",
       "    <tr>\n",
       "      <th>7</th>\n",
       "      <td>ns8</td>\n",
       "      <td>s8</td>\n",
       "      <td>movie</td>\n",
       "      <td>sankofa</td>\n",
       "      <td>haile gerima</td>\n",
       "      <td>kofi ghanaba, oyafunmike ogunlano, alexandra d...</td>\n",
       "      <td>united states, ghana, burkina faso, united kin...</td>\n",
       "      <td>2021-09-24</td>\n",
       "      <td>1993</td>\n",
       "      <td>tv-ma</td>\n",
       "      <td>125 min</td>\n",
       "      <td>dramas, independent movies, international movies</td>\n",
       "      <td>on a photo shoot in ghana, an american model s...</td>\n",
       "      <td>125.0</td>\n",
       "      <td>min</td>\n",
       "    </tr>\n",
       "    <tr>\n",
       "      <th>9</th>\n",
       "      <td>ns10</td>\n",
       "      <td>s10</td>\n",
       "      <td>movie</td>\n",
       "      <td>the starling</td>\n",
       "      <td>theodore melfi</td>\n",
       "      <td>melissa mccarthy, chris o'dowd, kevin kline, t...</td>\n",
       "      <td>united states</td>\n",
       "      <td>2021-09-24</td>\n",
       "      <td>2021</td>\n",
       "      <td>pg-13</td>\n",
       "      <td>104 min</td>\n",
       "      <td>comedies, dramas</td>\n",
       "      <td>a woman adjusting to life after a loss contend...</td>\n",
       "      <td>104.0</td>\n",
       "      <td>min</td>\n",
       "    </tr>\n",
       "    <tr>\n",
       "      <th>12</th>\n",
       "      <td>ns13</td>\n",
       "      <td>s13</td>\n",
       "      <td>movie</td>\n",
       "      <td>je suis karl</td>\n",
       "      <td>christian schwochow</td>\n",
       "      <td>luna wedler, jannis niewöhner, milan peschel, ...</td>\n",
       "      <td>germany, czech republic</td>\n",
       "      <td>2021-09-23</td>\n",
       "      <td>2021</td>\n",
       "      <td>tv-ma</td>\n",
       "      <td>127 min</td>\n",
       "      <td>dramas, international movies</td>\n",
       "      <td>after most of her family is murdered in a terr...</td>\n",
       "      <td>127.0</td>\n",
       "      <td>min</td>\n",
       "    </tr>\n",
       "    <tr>\n",
       "      <th>13</th>\n",
       "      <td>ns14</td>\n",
       "      <td>s14</td>\n",
       "      <td>movie</td>\n",
       "      <td>confessions of an invisible girl</td>\n",
       "      <td>bruno garotti</td>\n",
       "      <td>klara castanho, lucca picon, júlia gomes, marc...</td>\n",
       "      <td>NaN</td>\n",
       "      <td>2021-09-22</td>\n",
       "      <td>2021</td>\n",
       "      <td>tv-pg</td>\n",
       "      <td>91 min</td>\n",
       "      <td>children &amp; family movies, comedies</td>\n",
       "      <td>when the clever but socially-awkward tetê join...</td>\n",
       "      <td>91.0</td>\n",
       "      <td>min</td>\n",
       "    </tr>\n",
       "    <tr>\n",
       "      <th>...</th>\n",
       "      <td>...</td>\n",
       "      <td>...</td>\n",
       "      <td>...</td>\n",
       "      <td>...</td>\n",
       "      <td>...</td>\n",
       "      <td>...</td>\n",
       "      <td>...</td>\n",
       "      <td>...</td>\n",
       "      <td>...</td>\n",
       "      <td>...</td>\n",
       "      <td>...</td>\n",
       "      <td>...</td>\n",
       "      <td>...</td>\n",
       "      <td>...</td>\n",
       "      <td>...</td>\n",
       "    </tr>\n",
       "    <tr>\n",
       "      <th>1445</th>\n",
       "      <td>ds1446</td>\n",
       "      <td>s1446</td>\n",
       "      <td>movie</td>\n",
       "      <td>x-men origins: wolverine</td>\n",
       "      <td>gavin hood</td>\n",
       "      <td>hugh jackman, liev schreiber, danny huston, wi...</td>\n",
       "      <td>united states, united kingdom</td>\n",
       "      <td>NaN</td>\n",
       "      <td>2009</td>\n",
       "      <td>pg-13</td>\n",
       "      <td>108 min</td>\n",
       "      <td>action-adventure, family, science fiction</td>\n",
       "      <td>wolverine unites with legendary x-men to fight...</td>\n",
       "      <td>108.0</td>\n",
       "      <td>min</td>\n",
       "    </tr>\n",
       "    <tr>\n",
       "      <th>1446</th>\n",
       "      <td>ds1447</td>\n",
       "      <td>s1447</td>\n",
       "      <td>movie</td>\n",
       "      <td>night at the museum: battle of the smithsonian</td>\n",
       "      <td>shawn levy</td>\n",
       "      <td>ben stiller, amy adams, owen wilson, hank azar...</td>\n",
       "      <td>united states, canada</td>\n",
       "      <td>NaN</td>\n",
       "      <td>2009</td>\n",
       "      <td>pg</td>\n",
       "      <td>106 min</td>\n",
       "      <td>action-adventure, comedy, family</td>\n",
       "      <td>larry daley returns to rescue some old friends...</td>\n",
       "      <td>106.0</td>\n",
       "      <td>min</td>\n",
       "    </tr>\n",
       "    <tr>\n",
       "      <th>1447</th>\n",
       "      <td>ds1448</td>\n",
       "      <td>s1448</td>\n",
       "      <td>movie</td>\n",
       "      <td>eddie the eagle</td>\n",
       "      <td>dexter fletcher</td>\n",
       "      <td>tom costello, jo hartley, keith allen, dickon ...</td>\n",
       "      <td>united kingdom, germany, united states</td>\n",
       "      <td>NaN</td>\n",
       "      <td>2016</td>\n",
       "      <td>pg-13</td>\n",
       "      <td>107 min</td>\n",
       "      <td>biographical, comedy, drama</td>\n",
       "      <td>true story of eddie edwards, a british ski-jum...</td>\n",
       "      <td>107.0</td>\n",
       "      <td>min</td>\n",
       "    </tr>\n",
       "    <tr>\n",
       "      <th>1448</th>\n",
       "      <td>ds1449</td>\n",
       "      <td>s1449</td>\n",
       "      <td>movie</td>\n",
       "      <td>bend it like beckham</td>\n",
       "      <td>gurinder chadha</td>\n",
       "      <td>parminder nagra, keira knightley, jonathan rhy...</td>\n",
       "      <td>united kingdom, germany, united states</td>\n",
       "      <td>NaN</td>\n",
       "      <td>2003</td>\n",
       "      <td>pg-13</td>\n",
       "      <td>112 min</td>\n",
       "      <td>buddy, comedy, coming of age</td>\n",
       "      <td>despite the wishes of their traditional famili...</td>\n",
       "      <td>112.0</td>\n",
       "      <td>min</td>\n",
       "    </tr>\n",
       "    <tr>\n",
       "      <th>1449</th>\n",
       "      <td>ds1450</td>\n",
       "      <td>s1450</td>\n",
       "      <td>movie</td>\n",
       "      <td>captain sparky vs. the flying saucers</td>\n",
       "      <td>mark waring</td>\n",
       "      <td>charlie tahan</td>\n",
       "      <td>united states</td>\n",
       "      <td>NaN</td>\n",
       "      <td>2012</td>\n",
       "      <td>tv-g</td>\n",
       "      <td>2 min</td>\n",
       "      <td>action-adventure, animals &amp; nature, animation</td>\n",
       "      <td>view one of sparky's favorite home movies.</td>\n",
       "      <td>2.0</td>\n",
       "      <td>min</td>\n",
       "    </tr>\n",
       "  </tbody>\n",
       "</table>\n",
       "<p>15973 rows × 15 columns</p>\n",
       "</div>"
      ],
      "text/plain": [
       "          id show_id   type                                           title  \\\n",
       "6        ns7      s7  movie                my little pony: a new generation   \n",
       "7        ns8      s8  movie                                         sankofa   \n",
       "9       ns10     s10  movie                                    the starling   \n",
       "12      ns13     s13  movie                                    je suis karl   \n",
       "13      ns14     s14  movie                confessions of an invisible girl   \n",
       "...      ...     ...    ...                                             ...   \n",
       "1445  ds1446   s1446  movie                        x-men origins: wolverine   \n",
       "1446  ds1447   s1447  movie  night at the museum: battle of the smithsonian   \n",
       "1447  ds1448   s1448  movie                                 eddie the eagle   \n",
       "1448  ds1449   s1449  movie                            bend it like beckham   \n",
       "1449  ds1450   s1450  movie           captain sparky vs. the flying saucers   \n",
       "\n",
       "                           director  \\\n",
       "6     robert cullen, josé luis ucha   \n",
       "7                      haile gerima   \n",
       "9                    theodore melfi   \n",
       "12              christian schwochow   \n",
       "13                    bruno garotti   \n",
       "...                             ...   \n",
       "1445                     gavin hood   \n",
       "1446                     shawn levy   \n",
       "1447                dexter fletcher   \n",
       "1448                gurinder chadha   \n",
       "1449                    mark waring   \n",
       "\n",
       "                                                   cast  \\\n",
       "6     vanessa hudgens, kimiko glenn, james marsden, ...   \n",
       "7     kofi ghanaba, oyafunmike ogunlano, alexandra d...   \n",
       "9     melissa mccarthy, chris o'dowd, kevin kline, t...   \n",
       "12    luna wedler, jannis niewöhner, milan peschel, ...   \n",
       "13    klara castanho, lucca picon, júlia gomes, marc...   \n",
       "...                                                 ...   \n",
       "1445  hugh jackman, liev schreiber, danny huston, wi...   \n",
       "1446  ben stiller, amy adams, owen wilson, hank azar...   \n",
       "1447  tom costello, jo hartley, keith allen, dickon ...   \n",
       "1448  parminder nagra, keira knightley, jonathan rhy...   \n",
       "1449                                      charlie tahan   \n",
       "\n",
       "                                                country  date_added  \\\n",
       "6                                                   NaN  2021-09-24   \n",
       "7     united states, ghana, burkina faso, united kin...  2021-09-24   \n",
       "9                                         united states  2021-09-24   \n",
       "12                              germany, czech republic  2021-09-23   \n",
       "13                                                  NaN  2021-09-22   \n",
       "...                                                 ...         ...   \n",
       "1445                      united states, united kingdom         NaN   \n",
       "1446                              united states, canada         NaN   \n",
       "1447             united kingdom, germany, united states         NaN   \n",
       "1448             united kingdom, germany, united states         NaN   \n",
       "1449                                      united states         NaN   \n",
       "\n",
       "      release_year rating duration  \\\n",
       "6             2021     pg   91 min   \n",
       "7             1993  tv-ma  125 min   \n",
       "9             2021  pg-13  104 min   \n",
       "12            2021  tv-ma  127 min   \n",
       "13            2021  tv-pg   91 min   \n",
       "...            ...    ...      ...   \n",
       "1445          2009  pg-13  108 min   \n",
       "1446          2009     pg  106 min   \n",
       "1447          2016  pg-13  107 min   \n",
       "1448          2003  pg-13  112 min   \n",
       "1449          2012   tv-g    2 min   \n",
       "\n",
       "                                             listed_in  \\\n",
       "6                             children & family movies   \n",
       "7     dramas, independent movies, international movies   \n",
       "9                                     comedies, dramas   \n",
       "12                        dramas, international movies   \n",
       "13                  children & family movies, comedies   \n",
       "...                                                ...   \n",
       "1445         action-adventure, family, science fiction   \n",
       "1446                  action-adventure, comedy, family   \n",
       "1447                       biographical, comedy, drama   \n",
       "1448                      buddy, comedy, coming of age   \n",
       "1449     action-adventure, animals & nature, animation   \n",
       "\n",
       "                                            description  duration_int  \\\n",
       "6     equestria's divided. but a bright-eyed hero be...          91.0   \n",
       "7     on a photo shoot in ghana, an american model s...         125.0   \n",
       "9     a woman adjusting to life after a loss contend...         104.0   \n",
       "12    after most of her family is murdered in a terr...         127.0   \n",
       "13    when the clever but socially-awkward tetê join...          91.0   \n",
       "...                                                 ...           ...   \n",
       "1445  wolverine unites with legendary x-men to fight...         108.0   \n",
       "1446  larry daley returns to rescue some old friends...         106.0   \n",
       "1447  true story of eddie edwards, a british ski-jum...         107.0   \n",
       "1448  despite the wishes of their traditional famili...         112.0   \n",
       "1449         view one of sparky's favorite home movies.           2.0   \n",
       "\n",
       "     duration_type  \n",
       "6              min  \n",
       "7              min  \n",
       "9              min  \n",
       "12             min  \n",
       "13             min  \n",
       "...            ...  \n",
       "1445           min  \n",
       "1446           min  \n",
       "1447           min  \n",
       "1448           min  \n",
       "1449           min  \n",
       "\n",
       "[15973 rows x 15 columns]"
      ]
     },
     "execution_count": 138,
     "metadata": {},
     "output_type": "execute_result"
    }
   ],
   "source": [
    "clasificacion = df_plataformagral[ (df_plataformagral.type=='movie')\n",
    "& (df_plataformagral.listed_in!='documentaries')]\n",
    "clasificacion"
   ]
  },
  {
   "cell_type": "code",
   "execution_count": 100,
   "metadata": {},
   "outputs": [
    {
     "data": {
      "text/plain": [
       "array(['movie', 'tv show'], dtype=object)"
      ]
     },
     "execution_count": 100,
     "metadata": {},
     "output_type": "execute_result"
    }
   ],
   "source": []
  },
  {
   "cell_type": "code",
   "execution_count": 4,
   "metadata": {},
   "outputs": [],
   "source": [
    "\n",
    "def get_max_duration(year:int,platform:str,duration_type:str):\n",
    "    \n",
    "    #declaro parametros\n",
    "    if platform == 'netflix':\n",
    "        inicioId = 'n'\n",
    "    elif platform == 'hulu':\n",
    "        inicioId = 'h'\n",
    "    elif platform == 'disney':\n",
    "        inicioId = 'd'\n",
    "    elif platform == 'amazon':\n",
    "        inicioId = 'a'\n",
    "    else:\n",
    "        return 'no se encuentra plataforma, ingrear una de las opciones: netflix, hulu, disney o amazon'\n",
    "    \n",
    "\n",
    "    if duration_type == 'pelicula':\n",
    "        durationtype= 'movie' \n",
    "    else:\n",
    "        return 'ingresar parametro : pelicula' \n",
    "\n",
    "  \n",
    "    # df_plataformagral=  pd.read_csv('totalplataformas.csv', delimiter=',', encoding='utf-8')\n",
    "\n",
    "    filtro = df_plataformagral[ (df_plataformagral.type==durationtype) #filtro por peliculas\n",
    "                            & (df_plataformagral.id.str.contains(inicioId)) #filtro por primer letra de plataforma\n",
    "                            & (df_plataformagral.release_year==year)]  #filtro por el año\n",
    "\n",
    "    max = filtro['duration_int'].max() #guardo el valor maximo\n",
    "    filtro1 = filtro.query(\"duration_int==@max\") #consulto la duracion de ese valor\n",
    "    pelicula = filtro1['title'] #guardo lo que quiero que retorne\n",
    "    if  not pelicula.empty: #si segun los datos ingresados el dataframe no esta vacio\n",
    "        return {'pelicula': pelicula.iloc[0]}\n",
    "    else:\n",
    "        return 'Los datos ingresados no se encuentran en la base de datos'\n",
    "    "
   ]
  },
  {
   "cell_type": "code",
   "execution_count": 5,
   "metadata": {},
   "outputs": [
    {
     "data": {
      "text/plain": [
       "{'pelicula': 'cruella'}"
      ]
     },
     "execution_count": 5,
     "metadata": {},
     "output_type": "execute_result"
    }
   ],
   "source": [
    "get_max_duration(2021,'disney', 'pelicula')"
   ]
  },
  {
   "attachments": {},
   "cell_type": "markdown",
   "metadata": {},
   "source": [
    "Cantidad de películas por plataforma con un puntaje mayor a XX en determinado año "
   ]
  },
  {
   "attachments": {},
   "cell_type": "markdown",
   "metadata": {},
   "source": [
    "Cantidad de películas (sólo películas, no series, etc.) según plataforma, con un puntaje mayor a XX en determinado año. La función debe llamarse get_score_count(plataforma, anotado, año) y debe devolver un int, con el total de películas que cumplen con lo solicitado."
   ]
  },
  {
   "cell_type": "code",
   "execution_count": 6,
   "metadata": {},
   "outputs": [],
   "source": [
    "df_score= pd.read_csv('score_movies.csv', delimiter=',', encoding='utf-8')\n"
   ]
  },
  {
   "cell_type": "code",
   "execution_count": 315,
   "metadata": {},
   "outputs": [
    {
     "data": {
      "text/html": [
       "<div>\n",
       "<style scoped>\n",
       "    .dataframe tbody tr th:only-of-type {\n",
       "        vertical-align: middle;\n",
       "    }\n",
       "\n",
       "    .dataframe tbody tr th {\n",
       "        vertical-align: top;\n",
       "    }\n",
       "\n",
       "    .dataframe thead th {\n",
       "        text-align: right;\n",
       "    }\n",
       "</style>\n",
       "<table border=\"1\" class=\"dataframe\">\n",
       "  <thead>\n",
       "    <tr style=\"text-align: right;\">\n",
       "      <th></th>\n",
       "      <th>id</th>\n",
       "      <th>show_id</th>\n",
       "      <th>type</th>\n",
       "      <th>title</th>\n",
       "      <th>director</th>\n",
       "      <th>cast</th>\n",
       "      <th>country</th>\n",
       "      <th>date_added</th>\n",
       "      <th>release_year</th>\n",
       "      <th>rating</th>\n",
       "      <th>duration</th>\n",
       "      <th>listed_in</th>\n",
       "      <th>description</th>\n",
       "      <th>duration_int</th>\n",
       "      <th>duration_type</th>\n",
       "    </tr>\n",
       "  </thead>\n",
       "  <tbody>\n",
       "    <tr>\n",
       "      <th>0</th>\n",
       "      <td>ns1</td>\n",
       "      <td>s1</td>\n",
       "      <td>movie</td>\n",
       "      <td>dick johnson is dead</td>\n",
       "      <td>kirsten johnson</td>\n",
       "      <td>NaN</td>\n",
       "      <td>united states</td>\n",
       "      <td>2021-09-25</td>\n",
       "      <td>2020</td>\n",
       "      <td>pg-13</td>\n",
       "      <td>90 min</td>\n",
       "      <td>documentaries</td>\n",
       "      <td>as her father nears the end of his life, filmm...</td>\n",
       "      <td>90.0</td>\n",
       "      <td>min</td>\n",
       "    </tr>\n",
       "    <tr>\n",
       "      <th>1</th>\n",
       "      <td>ns2</td>\n",
       "      <td>s2</td>\n",
       "      <td>tv show</td>\n",
       "      <td>blood &amp; water</td>\n",
       "      <td>NaN</td>\n",
       "      <td>ama qamata, khosi ngema, gail mabalane, thaban...</td>\n",
       "      <td>south africa</td>\n",
       "      <td>2021-09-24</td>\n",
       "      <td>2021</td>\n",
       "      <td>tv-ma</td>\n",
       "      <td>2 seasons</td>\n",
       "      <td>international tv shows, tv dramas, tv mysteries</td>\n",
       "      <td>after crossing paths at a party, a cape town t...</td>\n",
       "      <td>2.0</td>\n",
       "      <td>season</td>\n",
       "    </tr>\n",
       "    <tr>\n",
       "      <th>2</th>\n",
       "      <td>ns3</td>\n",
       "      <td>s3</td>\n",
       "      <td>tv show</td>\n",
       "      <td>ganglands</td>\n",
       "      <td>julien leclercq</td>\n",
       "      <td>sami bouajila, tracy gotoas, samuel jouy, nabi...</td>\n",
       "      <td>NaN</td>\n",
       "      <td>2021-09-24</td>\n",
       "      <td>2021</td>\n",
       "      <td>tv-ma</td>\n",
       "      <td>1 season</td>\n",
       "      <td>crime tv shows, international tv shows, tv act...</td>\n",
       "      <td>to protect his family from a powerful drug lor...</td>\n",
       "      <td>1.0</td>\n",
       "      <td>season</td>\n",
       "    </tr>\n",
       "    <tr>\n",
       "      <th>3</th>\n",
       "      <td>ns4</td>\n",
       "      <td>s4</td>\n",
       "      <td>tv show</td>\n",
       "      <td>jailbirds new orleans</td>\n",
       "      <td>NaN</td>\n",
       "      <td>NaN</td>\n",
       "      <td>NaN</td>\n",
       "      <td>2021-09-24</td>\n",
       "      <td>2021</td>\n",
       "      <td>tv-ma</td>\n",
       "      <td>1 season</td>\n",
       "      <td>docuseries, reality tv</td>\n",
       "      <td>feuds, flirtations and toilet talk go down amo...</td>\n",
       "      <td>1.0</td>\n",
       "      <td>season</td>\n",
       "    </tr>\n",
       "    <tr>\n",
       "      <th>4</th>\n",
       "      <td>ns5</td>\n",
       "      <td>s5</td>\n",
       "      <td>tv show</td>\n",
       "      <td>kota factory</td>\n",
       "      <td>NaN</td>\n",
       "      <td>mayur more, jitendra kumar, ranjan raj, alam k...</td>\n",
       "      <td>india</td>\n",
       "      <td>2021-09-24</td>\n",
       "      <td>2021</td>\n",
       "      <td>tv-ma</td>\n",
       "      <td>2 seasons</td>\n",
       "      <td>international tv shows, romantic tv shows, tv ...</td>\n",
       "      <td>in a city of coaching centers known to train i...</td>\n",
       "      <td>2.0</td>\n",
       "      <td>season</td>\n",
       "    </tr>\n",
       "    <tr>\n",
       "      <th>...</th>\n",
       "      <td>...</td>\n",
       "      <td>...</td>\n",
       "      <td>...</td>\n",
       "      <td>...</td>\n",
       "      <td>...</td>\n",
       "      <td>...</td>\n",
       "      <td>...</td>\n",
       "      <td>...</td>\n",
       "      <td>...</td>\n",
       "      <td>...</td>\n",
       "      <td>...</td>\n",
       "      <td>...</td>\n",
       "      <td>...</td>\n",
       "      <td>...</td>\n",
       "      <td>...</td>\n",
       "    </tr>\n",
       "    <tr>\n",
       "      <th>8802</th>\n",
       "      <td>ns8803</td>\n",
       "      <td>s8803</td>\n",
       "      <td>movie</td>\n",
       "      <td>zodiac</td>\n",
       "      <td>david fincher</td>\n",
       "      <td>mark ruffalo, jake gyllenhaal, robert downey j...</td>\n",
       "      <td>united states</td>\n",
       "      <td>2019-11-20</td>\n",
       "      <td>2007</td>\n",
       "      <td>r</td>\n",
       "      <td>158 min</td>\n",
       "      <td>cult movies, dramas, thrillers</td>\n",
       "      <td>a political cartoonist, a crime reporter and a...</td>\n",
       "      <td>158.0</td>\n",
       "      <td>min</td>\n",
       "    </tr>\n",
       "    <tr>\n",
       "      <th>8803</th>\n",
       "      <td>ns8804</td>\n",
       "      <td>s8804</td>\n",
       "      <td>tv show</td>\n",
       "      <td>zombie dumb</td>\n",
       "      <td>NaN</td>\n",
       "      <td>NaN</td>\n",
       "      <td>NaN</td>\n",
       "      <td>2019-07-01</td>\n",
       "      <td>2018</td>\n",
       "      <td>tv-y7</td>\n",
       "      <td>2 seasons</td>\n",
       "      <td>kids' tv, korean tv shows, tv comedies</td>\n",
       "      <td>while living alone in a spooky town, a young g...</td>\n",
       "      <td>2.0</td>\n",
       "      <td>season</td>\n",
       "    </tr>\n",
       "    <tr>\n",
       "      <th>8804</th>\n",
       "      <td>ns8805</td>\n",
       "      <td>s8805</td>\n",
       "      <td>movie</td>\n",
       "      <td>zombieland</td>\n",
       "      <td>ruben fleischer</td>\n",
       "      <td>jesse eisenberg, woody harrelson, emma stone, ...</td>\n",
       "      <td>united states</td>\n",
       "      <td>2019-11-01</td>\n",
       "      <td>2009</td>\n",
       "      <td>r</td>\n",
       "      <td>88 min</td>\n",
       "      <td>comedies, horror movies</td>\n",
       "      <td>looking to survive in a world taken over by zo...</td>\n",
       "      <td>88.0</td>\n",
       "      <td>min</td>\n",
       "    </tr>\n",
       "    <tr>\n",
       "      <th>8805</th>\n",
       "      <td>ns8806</td>\n",
       "      <td>s8806</td>\n",
       "      <td>movie</td>\n",
       "      <td>zoom</td>\n",
       "      <td>peter hewitt</td>\n",
       "      <td>tim allen, courteney cox, chevy chase, kate ma...</td>\n",
       "      <td>united states</td>\n",
       "      <td>2020-01-11</td>\n",
       "      <td>2006</td>\n",
       "      <td>pg</td>\n",
       "      <td>88 min</td>\n",
       "      <td>children &amp; family movies, comedies</td>\n",
       "      <td>dragged from civilian life, a former superhero...</td>\n",
       "      <td>88.0</td>\n",
       "      <td>min</td>\n",
       "    </tr>\n",
       "    <tr>\n",
       "      <th>8806</th>\n",
       "      <td>ns8807</td>\n",
       "      <td>s8807</td>\n",
       "      <td>movie</td>\n",
       "      <td>zubaan</td>\n",
       "      <td>mozez singh</td>\n",
       "      <td>vicky kaushal, sarah-jane dias, raaghav chanan...</td>\n",
       "      <td>india</td>\n",
       "      <td>2019-03-02</td>\n",
       "      <td>2015</td>\n",
       "      <td>tv-14</td>\n",
       "      <td>111 min</td>\n",
       "      <td>dramas, international movies, music &amp; musicals</td>\n",
       "      <td>a scrappy but poor boy worms his way into a ty...</td>\n",
       "      <td>111.0</td>\n",
       "      <td>min</td>\n",
       "    </tr>\n",
       "  </tbody>\n",
       "</table>\n",
       "<p>8807 rows × 15 columns</p>\n",
       "</div>"
      ],
      "text/plain": [
       "          id show_id     type                  title         director  \\\n",
       "0        ns1      s1    movie   dick johnson is dead  kirsten johnson   \n",
       "1        ns2      s2  tv show          blood & water              NaN   \n",
       "2        ns3      s3  tv show              ganglands  julien leclercq   \n",
       "3        ns4      s4  tv show  jailbirds new orleans              NaN   \n",
       "4        ns5      s5  tv show           kota factory              NaN   \n",
       "...      ...     ...      ...                    ...              ...   \n",
       "8802  ns8803   s8803    movie                 zodiac    david fincher   \n",
       "8803  ns8804   s8804  tv show            zombie dumb              NaN   \n",
       "8804  ns8805   s8805    movie             zombieland  ruben fleischer   \n",
       "8805  ns8806   s8806    movie                   zoom     peter hewitt   \n",
       "8806  ns8807   s8807    movie                 zubaan      mozez singh   \n",
       "\n",
       "                                                   cast        country  \\\n",
       "0                                                   NaN  united states   \n",
       "1     ama qamata, khosi ngema, gail mabalane, thaban...   south africa   \n",
       "2     sami bouajila, tracy gotoas, samuel jouy, nabi...            NaN   \n",
       "3                                                   NaN            NaN   \n",
       "4     mayur more, jitendra kumar, ranjan raj, alam k...          india   \n",
       "...                                                 ...            ...   \n",
       "8802  mark ruffalo, jake gyllenhaal, robert downey j...  united states   \n",
       "8803                                                NaN            NaN   \n",
       "8804  jesse eisenberg, woody harrelson, emma stone, ...  united states   \n",
       "8805  tim allen, courteney cox, chevy chase, kate ma...  united states   \n",
       "8806  vicky kaushal, sarah-jane dias, raaghav chanan...          india   \n",
       "\n",
       "      date_added  release_year rating   duration  \\\n",
       "0     2021-09-25          2020  pg-13     90 min   \n",
       "1     2021-09-24          2021  tv-ma  2 seasons   \n",
       "2     2021-09-24          2021  tv-ma   1 season   \n",
       "3     2021-09-24          2021  tv-ma   1 season   \n",
       "4     2021-09-24          2021  tv-ma  2 seasons   \n",
       "...          ...           ...    ...        ...   \n",
       "8802  2019-11-20          2007      r    158 min   \n",
       "8803  2019-07-01          2018  tv-y7  2 seasons   \n",
       "8804  2019-11-01          2009      r     88 min   \n",
       "8805  2020-01-11          2006     pg     88 min   \n",
       "8806  2019-03-02          2015  tv-14    111 min   \n",
       "\n",
       "                                              listed_in  \\\n",
       "0                                         documentaries   \n",
       "1       international tv shows, tv dramas, tv mysteries   \n",
       "2     crime tv shows, international tv shows, tv act...   \n",
       "3                                docuseries, reality tv   \n",
       "4     international tv shows, romantic tv shows, tv ...   \n",
       "...                                                 ...   \n",
       "8802                     cult movies, dramas, thrillers   \n",
       "8803             kids' tv, korean tv shows, tv comedies   \n",
       "8804                            comedies, horror movies   \n",
       "8805                 children & family movies, comedies   \n",
       "8806     dramas, international movies, music & musicals   \n",
       "\n",
       "                                            description  duration_int  \\\n",
       "0     as her father nears the end of his life, filmm...          90.0   \n",
       "1     after crossing paths at a party, a cape town t...           2.0   \n",
       "2     to protect his family from a powerful drug lor...           1.0   \n",
       "3     feuds, flirtations and toilet talk go down amo...           1.0   \n",
       "4     in a city of coaching centers known to train i...           2.0   \n",
       "...                                                 ...           ...   \n",
       "8802  a political cartoonist, a crime reporter and a...         158.0   \n",
       "8803  while living alone in a spooky town, a young g...           2.0   \n",
       "8804  looking to survive in a world taken over by zo...          88.0   \n",
       "8805  dragged from civilian life, a former superhero...          88.0   \n",
       "8806  a scrappy but poor boy worms his way into a ty...         111.0   \n",
       "\n",
       "     duration_type  \n",
       "0              min  \n",
       "1           season  \n",
       "2           season  \n",
       "3           season  \n",
       "4           season  \n",
       "...            ...  \n",
       "8802           min  \n",
       "8803        season  \n",
       "8804           min  \n",
       "8805           min  \n",
       "8806           min  \n",
       "\n",
       "[8807 rows x 15 columns]"
      ]
     },
     "execution_count": 315,
     "metadata": {},
     "output_type": "execute_result"
    }
   ],
   "source": [
    "nett= df_plataformagral[df_plataformagral.id.str.contains('n')]\n",
    "nett"
   ]
  },
  {
   "cell_type": "code",
   "execution_count": 7,
   "metadata": {},
   "outputs": [
    {
     "data": {
      "text/plain": [
       "0          ns1\n",
       "6          ns7\n",
       "7          ns8\n",
       "9         ns10\n",
       "12        ns13\n",
       "         ...  \n",
       "8801    ns8802\n",
       "8802    ns8803\n",
       "8804    ns8805\n",
       "8805    ns8806\n",
       "8806    ns8807\n",
       "Name: id, Length: 6131, dtype: object"
      ]
     },
     "execution_count": 7,
     "metadata": {},
     "output_type": "execute_result"
    }
   ],
   "source": [
    "clasificacion = df_plataformagral[ (df_plataformagral.type=='movie')\n",
    "& (df_plataformagral.id.str.contains('n'))]\n",
    "clasificacion.id"
   ]
  },
  {
   "cell_type": "code",
   "execution_count": 8,
   "metadata": {},
   "outputs": [
    {
     "data": {
      "text/html": [
       "<div>\n",
       "<style scoped>\n",
       "    .dataframe tbody tr th:only-of-type {\n",
       "        vertical-align: middle;\n",
       "    }\n",
       "\n",
       "    .dataframe tbody tr th {\n",
       "        vertical-align: top;\n",
       "    }\n",
       "\n",
       "    .dataframe thead th {\n",
       "        text-align: right;\n",
       "    }\n",
       "</style>\n",
       "<table border=\"1\" class=\"dataframe\">\n",
       "  <thead>\n",
       "    <tr style=\"text-align: right;\">\n",
       "      <th></th>\n",
       "      <th>userId</th>\n",
       "      <th>rating</th>\n",
       "      <th>timestamp</th>\n",
       "      <th>movieId</th>\n",
       "      <th>fecha</th>\n",
       "      <th>year</th>\n",
       "    </tr>\n",
       "  </thead>\n",
       "  <tbody>\n",
       "    <tr>\n",
       "      <th>0</th>\n",
       "      <td>1</td>\n",
       "      <td>1.0</td>\n",
       "      <td>1425941529</td>\n",
       "      <td>as680</td>\n",
       "      <td>2015-03-09 22:52:09</td>\n",
       "      <td>2015</td>\n",
       "    </tr>\n",
       "  </tbody>\n",
       "</table>\n",
       "</div>"
      ],
      "text/plain": [
       "   userId  rating   timestamp movieId               fecha  year\n",
       "0       1     1.0  1425941529   as680 2015-03-09 22:52:09  2015"
      ]
     },
     "execution_count": 8,
     "metadata": {},
     "output_type": "execute_result"
    }
   ],
   "source": [
    "# df_ratings['fecha']= pd.to_datetime(df_ratings['fecha']) #necesito separar solo el año en nueva columna\n",
    "# df_ratings['year']= df_ratings['fecha'].dt.year\n",
    "# df_ratings.head(1)"
   ]
  },
  {
   "cell_type": "code",
   "execution_count": 90,
   "metadata": {},
   "outputs": [],
   "source": [
    "# filtroanio_plataforma= df_ratings[(df_ratings.year==2021) \n",
    "#             & (df_ratings.movieId.str.contains('n'))] #filtro año y plataforma\n"
   ]
  },
  {
   "cell_type": "code",
   "execution_count": 10,
   "metadata": {},
   "outputs": [
    {
     "data": {
      "text/html": [
       "<div>\n",
       "<style scoped>\n",
       "    .dataframe tbody tr th:only-of-type {\n",
       "        vertical-align: middle;\n",
       "    }\n",
       "\n",
       "    .dataframe tbody tr th {\n",
       "        vertical-align: top;\n",
       "    }\n",
       "\n",
       "    .dataframe thead th {\n",
       "        text-align: right;\n",
       "    }\n",
       "</style>\n",
       "<table border=\"1\" class=\"dataframe\">\n",
       "  <thead>\n",
       "    <tr style=\"text-align: right;\">\n",
       "      <th></th>\n",
       "      <th>userId</th>\n",
       "      <th>rating</th>\n",
       "      <th>timestamp</th>\n",
       "      <th>movieId</th>\n",
       "      <th>fecha</th>\n",
       "      <th>year</th>\n",
       "    </tr>\n",
       "  </thead>\n",
       "  <tbody>\n",
       "    <tr>\n",
       "      <th>1</th>\n",
       "      <td>1</td>\n",
       "      <td>4.5</td>\n",
       "      <td>1425942435</td>\n",
       "      <td>ns2186</td>\n",
       "      <td>2015-03-09 23:07:15</td>\n",
       "      <td>2015</td>\n",
       "    </tr>\n",
       "    <tr>\n",
       "      <th>3</th>\n",
       "      <td>1</td>\n",
       "      <td>5.0</td>\n",
       "      <td>1425941546</td>\n",
       "      <td>ns3663</td>\n",
       "      <td>2015-03-09 22:52:26</td>\n",
       "      <td>2015</td>\n",
       "    </tr>\n",
       "    <tr>\n",
       "      <th>6</th>\n",
       "      <td>1</td>\n",
       "      <td>4.5</td>\n",
       "      <td>1425941300</td>\n",
       "      <td>ns8282</td>\n",
       "      <td>2015-03-09 22:48:20</td>\n",
       "      <td>2015</td>\n",
       "    </tr>\n",
       "    <tr>\n",
       "      <th>9</th>\n",
       "      <td>1</td>\n",
       "      <td>4.0</td>\n",
       "      <td>1425942228</td>\n",
       "      <td>ns1358</td>\n",
       "      <td>2015-03-09 23:03:48</td>\n",
       "      <td>2015</td>\n",
       "    </tr>\n",
       "    <tr>\n",
       "      <th>10</th>\n",
       "      <td>1</td>\n",
       "      <td>5.0</td>\n",
       "      <td>1425941434</td>\n",
       "      <td>ns7360</td>\n",
       "      <td>2015-03-09 22:50:34</td>\n",
       "      <td>2015</td>\n",
       "    </tr>\n",
       "    <tr>\n",
       "      <th>...</th>\n",
       "      <td>...</td>\n",
       "      <td>...</td>\n",
       "      <td>...</td>\n",
       "      <td>...</td>\n",
       "      <td>...</td>\n",
       "      <td>...</td>\n",
       "    </tr>\n",
       "    <tr>\n",
       "      <th>11024221</th>\n",
       "      <td>124377</td>\n",
       "      <td>5.0</td>\n",
       "      <td>1424259871</td>\n",
       "      <td>ns2877</td>\n",
       "      <td>2015-02-18 11:44:31</td>\n",
       "      <td>2015</td>\n",
       "    </tr>\n",
       "    <tr>\n",
       "      <th>11024222</th>\n",
       "      <td>124377</td>\n",
       "      <td>5.0</td>\n",
       "      <td>1424259817</td>\n",
       "      <td>ns4</td>\n",
       "      <td>2015-02-18 11:43:37</td>\n",
       "      <td>2015</td>\n",
       "    </tr>\n",
       "    <tr>\n",
       "      <th>11024225</th>\n",
       "      <td>124377</td>\n",
       "      <td>5.0</td>\n",
       "      <td>1424259888</td>\n",
       "      <td>ns8799</td>\n",
       "      <td>2015-02-18 11:44:48</td>\n",
       "      <td>2015</td>\n",
       "    </tr>\n",
       "    <tr>\n",
       "      <th>11024231</th>\n",
       "      <td>124377</td>\n",
       "      <td>4.5</td>\n",
       "      <td>1424259902</td>\n",
       "      <td>ns2002</td>\n",
       "      <td>2015-02-18 11:45:02</td>\n",
       "      <td>2015</td>\n",
       "    </tr>\n",
       "    <tr>\n",
       "      <th>11024233</th>\n",
       "      <td>124377</td>\n",
       "      <td>5.0</td>\n",
       "      <td>1424259876</td>\n",
       "      <td>ns4704</td>\n",
       "      <td>2015-02-18 11:44:36</td>\n",
       "      <td>2015</td>\n",
       "    </tr>\n",
       "  </tbody>\n",
       "</table>\n",
       "<p>309653 rows × 6 columns</p>\n",
       "</div>"
      ],
      "text/plain": [
       "          userId  rating   timestamp movieId               fecha  year\n",
       "1              1     4.5  1425942435  ns2186 2015-03-09 23:07:15  2015\n",
       "3              1     5.0  1425941546  ns3663 2015-03-09 22:52:26  2015\n",
       "6              1     4.5  1425941300  ns8282 2015-03-09 22:48:20  2015\n",
       "9              1     4.0  1425942228  ns1358 2015-03-09 23:03:48  2015\n",
       "10             1     5.0  1425941434  ns7360 2015-03-09 22:50:34  2015\n",
       "...          ...     ...         ...     ...                 ...   ...\n",
       "11024221  124377     5.0  1424259871  ns2877 2015-02-18 11:44:31  2015\n",
       "11024222  124377     5.0  1424259817     ns4 2015-02-18 11:43:37  2015\n",
       "11024225  124377     5.0  1424259888  ns8799 2015-02-18 11:44:48  2015\n",
       "11024231  124377     4.5  1424259902  ns2002 2015-02-18 11:45:02  2015\n",
       "11024233  124377     5.0  1424259876  ns4704 2015-02-18 11:44:36  2015\n",
       "\n",
       "[309653 rows x 6 columns]"
      ]
     },
     "execution_count": 10,
     "metadata": {},
     "output_type": "execute_result"
    }
   ],
   "source": [
    "filtroanio_plataforma"
   ]
  },
  {
   "cell_type": "code",
   "execution_count": 91,
   "metadata": {},
   "outputs": [],
   "source": [
    "promedio=filtroanio_plataforma.groupby(['movieId'])['rating'].mean()\n",
    "#promedio agrupado por pelicula"
   ]
  },
  {
   "cell_type": "code",
   "execution_count": 22,
   "metadata": {},
   "outputs": [
    {
     "data": {
      "text/plain": [
       "movieId\n",
       "ns1       3.593023\n",
       "ns10      3.558140\n",
       "ns100     3.758065\n",
       "ns1000    3.426471\n",
       "ns1001    3.592593\n",
       "            ...   \n",
       "ns995     3.527778\n",
       "ns996     3.633333\n",
       "ns997     3.742857\n",
       "ns998     3.884615\n",
       "ns999     3.700000\n",
       "Name: rating, Length: 8807, dtype: float64"
      ]
     },
     "execution_count": 22,
     "metadata": {},
     "output_type": "execute_result"
    }
   ],
   "source": [
    "promedio"
   ]
  },
  {
   "cell_type": "code",
   "execution_count": 13,
   "metadata": {},
   "outputs": [
    {
     "data": {
      "text/plain": [
       "0"
      ]
     },
     "execution_count": 13,
     "metadata": {},
     "output_type": "execute_result"
    }
   ],
   "source": [
    "promedio[promedio<=1].count()"
   ]
  },
  {
   "cell_type": "code",
   "execution_count": 92,
   "metadata": {},
   "outputs": [
    {
     "data": {
      "text/plain": [
       "Series([], Name: movieId, dtype: int64)"
      ]
     },
     "execution_count": 92,
     "metadata": {},
     "output_type": "execute_result"
    }
   ],
   "source": [
    "filtroanio_plataforma.movieId.isin(clasificacion.id).value_counts()"
   ]
  },
  {
   "cell_type": "code",
   "execution_count": 93,
   "metadata": {},
   "outputs": [
    {
     "data": {
      "text/plain": [
       "0"
      ]
     },
     "execution_count": 93,
     "metadata": {},
     "output_type": "execute_result"
    }
   ],
   "source": [
    "df_confiltro=filtroanio_plataforma[filtroanio_plataforma.movieId.isin(clasificacion.id)]#filtro los registros de los id que necesito\n",
    "promedio_nuevo = df_confiltro.groupby(['movieId'])['rating'].mean() #saco promedio agrupando por id\n",
    "(promedio_nuevo>2).count()"
   ]
  },
  {
   "cell_type": "code",
   "execution_count": 94,
   "metadata": {},
   "outputs": [
    {
     "data": {
      "text/plain": [
       "0"
      ]
     },
     "execution_count": 94,
     "metadata": {},
     "output_type": "execute_result"
    }
   ],
   "source": [
    "promediofiltro =filtroanio_plataforma[filtroanio_plataforma.movieId.isin(clasificacion.id)].groupby(['movieId'])['rating'].mean()\n",
    "#\n",
    "promediofiltro[promediofiltro>4].count()"
   ]
  },
  {
   "cell_type": "code",
   "execution_count": null,
   "metadata": {},
   "outputs": [],
   "source": []
  },
  {
   "cell_type": "code",
   "execution_count": 277,
   "metadata": {},
   "outputs": [
    {
     "data": {
      "text/plain": [
       "True    398\n",
       "Name: id, dtype: int64"
      ]
     },
     "execution_count": 277,
     "metadata": {},
     "output_type": "execute_result"
    }
   ],
   "source": [
    "clasificacion.id.isin(consulta_score.movieId).value_counts()"
   ]
  },
  {
   "cell_type": "code",
   "execution_count": 293,
   "metadata": {},
   "outputs": [
    {
     "data": {
      "text/plain": [
       "398"
      ]
     },
     "execution_count": 293,
     "metadata": {},
     "output_type": "execute_result"
    }
   ],
   "source": [
    "clasificacion = df_plataformagral[ (df_plataformagral.type=='movie')#busco  los id solo de las peliculas\n",
    "                                    & (df_plataformagral.id.str.contains('n')) #filtro por plataforma\n",
    "                                     & (df_plataformagral.release_year==2015)] #filtro por año\n",
    "consulta_score= df_score[(df_score.movieId.str.contains('n'))]#filtro por plataforma\n",
    "df_peliculas=consulta_score[consulta_score.movieId.isin(clasificacion.id)]#me quedo solo con los id que estan en ambos df\n",
    "total_peliculas= df_peliculas.score[df_peliculas.score > 1].count()#filtro por el puntaje mayor a xx del campo score y cuento los valores totales\n",
    "total_peliculas"
   ]
  },
  {
   "cell_type": "code",
   "execution_count": 267,
   "metadata": {},
   "outputs": [
    {
     "data": {
      "text/plain": [
       "movieId\n",
       "as1       3.467131\n",
       "as10      3.439571\n",
       "as100     3.609302\n",
       "as1000    3.556701\n",
       "as1001    3.585288\n",
       "            ...   \n",
       "ns995     3.515625\n",
       "ns996     3.626518\n",
       "ns997     3.530526\n",
       "ns998     3.582645\n",
       "ns999     3.494781\n",
       "Name: rating, Length: 22998, dtype: float64"
      ]
     },
     "execution_count": 267,
     "metadata": {},
     "output_type": "execute_result"
    }
   ],
   "source": [
    "df_ratings.groupby(['movieId'])['rating'].mean()"
   ]
  },
  {
   "cell_type": "code",
   "execution_count": 268,
   "metadata": {},
   "outputs": [],
   "source": [
    "df_score = pd.read_csv(r'score_movies.csv', delimiter=',', encoding='utf-8')"
   ]
  },
  {
   "cell_type": "code",
   "execution_count": 269,
   "metadata": {},
   "outputs": [
    {
     "data": {
      "text/html": [
       "<div>\n",
       "<style scoped>\n",
       "    .dataframe tbody tr th:only-of-type {\n",
       "        vertical-align: middle;\n",
       "    }\n",
       "\n",
       "    .dataframe tbody tr th {\n",
       "        vertical-align: top;\n",
       "    }\n",
       "\n",
       "    .dataframe thead th {\n",
       "        text-align: right;\n",
       "    }\n",
       "</style>\n",
       "<table border=\"1\" class=\"dataframe\">\n",
       "  <thead>\n",
       "    <tr style=\"text-align: right;\">\n",
       "      <th></th>\n",
       "      <th>movieId</th>\n",
       "      <th>score</th>\n",
       "    </tr>\n",
       "  </thead>\n",
       "  <tbody>\n",
       "    <tr>\n",
       "      <th>0</th>\n",
       "      <td>as1</td>\n",
       "      <td>3.467131</td>\n",
       "    </tr>\n",
       "    <tr>\n",
       "      <th>1</th>\n",
       "      <td>as10</td>\n",
       "      <td>3.439571</td>\n",
       "    </tr>\n",
       "    <tr>\n",
       "      <th>2</th>\n",
       "      <td>as100</td>\n",
       "      <td>3.609302</td>\n",
       "    </tr>\n",
       "    <tr>\n",
       "      <th>3</th>\n",
       "      <td>as1000</td>\n",
       "      <td>3.556701</td>\n",
       "    </tr>\n",
       "    <tr>\n",
       "      <th>4</th>\n",
       "      <td>as1001</td>\n",
       "      <td>3.585288</td>\n",
       "    </tr>\n",
       "    <tr>\n",
       "      <th>...</th>\n",
       "      <td>...</td>\n",
       "      <td>...</td>\n",
       "    </tr>\n",
       "    <tr>\n",
       "      <th>22993</th>\n",
       "      <td>ns995</td>\n",
       "      <td>3.515625</td>\n",
       "    </tr>\n",
       "    <tr>\n",
       "      <th>22994</th>\n",
       "      <td>ns996</td>\n",
       "      <td>3.626518</td>\n",
       "    </tr>\n",
       "    <tr>\n",
       "      <th>22995</th>\n",
       "      <td>ns997</td>\n",
       "      <td>3.530526</td>\n",
       "    </tr>\n",
       "    <tr>\n",
       "      <th>22996</th>\n",
       "      <td>ns998</td>\n",
       "      <td>3.582645</td>\n",
       "    </tr>\n",
       "    <tr>\n",
       "      <th>22997</th>\n",
       "      <td>ns999</td>\n",
       "      <td>3.494781</td>\n",
       "    </tr>\n",
       "  </tbody>\n",
       "</table>\n",
       "<p>22998 rows × 2 columns</p>\n",
       "</div>"
      ],
      "text/plain": [
       "      movieId     score\n",
       "0         as1  3.467131\n",
       "1        as10  3.439571\n",
       "2       as100  3.609302\n",
       "3      as1000  3.556701\n",
       "4      as1001  3.585288\n",
       "...       ...       ...\n",
       "22993   ns995  3.515625\n",
       "22994   ns996  3.626518\n",
       "22995   ns997  3.530526\n",
       "22996   ns998  3.582645\n",
       "22997   ns999  3.494781\n",
       "\n",
       "[22998 rows x 2 columns]"
      ]
     },
     "execution_count": 269,
     "metadata": {},
     "output_type": "execute_result"
    }
   ],
   "source": [
    "df_score"
   ]
  },
  {
   "cell_type": "code",
   "execution_count": 8,
   "metadata": {},
   "outputs": [],
   "source": [
    "def get_score_count(platform, scored, year):  \n",
    "\n",
    "    import datetime\n",
    "\n",
    "    #declaro parametros\n",
    "    if platform == 'netflix':\n",
    "        plataforma = 'n'\n",
    "    elif platform == 'hulu':\n",
    "        plataforma = 'h'\n",
    "    elif platform == 'disney':\n",
    "        plataforma = 'd'\n",
    "    elif platform == 'amazon':\n",
    "        plataforma = 'a'\n",
    "    else:\n",
    "        return 'ingresar una de las opciones: netflix, hulu, amazon o disney'\n",
    "    \n",
    "    \n",
    "    clasificacion = df_plataformagral[ (df_plataformagral.type=='movie')#busco  solo las peliculas\n",
    "                                        & (df_plataformagral.id.str.contains(plataforma)) #filtro por plataforma\n",
    "                                        & (df_plataformagral.release_year==year)]  #filtro por el año\n",
    "                                        \n",
    "\n",
    "    consulta_score= df_score[(df_score.movieId.str.contains(plataforma))] #filtro por plataforma \n",
    "    df_peliculas=consulta_score[consulta_score.movieId.isin(clasificacion.id)]#me quedo solo con los id que estan en ambos df\n",
    "    total_peliculas = df_peliculas.score[df_peliculas.score >scored].count()#filtro por el puntaje mayor a xx del campo score y cuento los valores totales\n",
    "\n",
    "\n",
    "    return {'plataforma' : platform , 'cantidad': total_peliculas, 'anio' : year, 'score' : scored}"
   ]
  },
  {
   "cell_type": "code",
   "execution_count": 9,
   "metadata": {},
   "outputs": [
    {
     "data": {
      "text/plain": [
       "{'plataforma': 'netflix', 'cantidad': 398, 'anio': 2015, 'score': 1}"
      ]
     },
     "execution_count": 9,
     "metadata": {},
     "output_type": "execute_result"
    }
   ],
   "source": [
    "get_score_count('netflix', 1, 2015)"
   ]
  },
  {
   "attachments": {},
   "cell_type": "markdown",
   "metadata": {},
   "source": [
    "Cantidad de películas (sólo películas, no series, etc) según plataforma. La función debe llamarse get_count_platform(platform) y debe devolver un int, con el número total de películas de esa plataforma. Las plataformas deben llamarse amazon, netflix, hulu, disney."
   ]
  },
  {
   "cell_type": "code",
   "execution_count": 10,
   "metadata": {},
   "outputs": [],
   "source": [
    "def get_count_platform(platform): \n",
    "\n",
    "    #Declaro parametros\n",
    "    if platform == 'netflix':\n",
    "        plataforma = 'n'\n",
    "    elif platform == 'hulu':\n",
    "        plataforma= 'h'\n",
    "    elif platform == 'disney':\n",
    "        plataforma= 'd'\n",
    "    elif platform == 'amazon':\n",
    "        plataforma= 'a'\n",
    "    else:\n",
    "        return print('ingrese plataforma: amazon, disney, hulu o netflix')\n",
    "\n",
    "   \n",
    "\n",
    "    consulta_plataforma= df_plataformagral[(df_plataformagral.id.str.contains(plataforma))#filtro por plataforma\n",
    "                                           & (df_plataformagral.type=='movie')]#filtro por peliculas\n",
    "\n",
    "                                           \n",
    "    conteo_movies= consulta_plataforma.title.count()#cuento\n",
    "    return { 'plataforma': platform, 'peliculas': conteo_movies}"
   ]
  },
  {
   "cell_type": "code",
   "execution_count": 11,
   "metadata": {},
   "outputs": [
    {
     "data": {
      "text/plain": [
       "{'plataforma': 'netflix', 'peliculas': 6131}"
      ]
     },
     "execution_count": 11,
     "metadata": {},
     "output_type": "execute_result"
    }
   ],
   "source": [
    "get_count_platform('netflix')"
   ]
  },
  {
   "attachments": {},
   "cell_type": "markdown",
   "metadata": {},
   "source": [
    "Actor que más se repite según plataforma y año. La función debe llamarse get_actor(platform, year) y debe devolver sólo la cadena con el nombre del actor que más se repite según la plataforma y el año dado."
   ]
  },
  {
   "cell_type": "code",
   "execution_count": 231,
   "metadata": {},
   "outputs": [
    {
     "data": {
      "text/plain": [
       "5"
      ]
     },
     "execution_count": 231,
     "metadata": {},
     "output_type": "execute_result"
    }
   ],
   "source": [
    "filtroplat = df_plataformagral[(df_plataformagral.id.str.contains('n'))\n",
    "                                & (df_plataformagral.release_year==2015)] #filtro por año y plataforma\n",
    "lista= filtroplat['cast']\n",
    "newlista = [x for x in lista if pd.isnull(x) == False]\n",
    "lista_cast=[]\n",
    "for i in newlista: #itero para separar actores en diferentes str\n",
    "    separador= i.split(sep=',')\n",
    "    for j in separador: #itero para eliminar espacios en cada nuevo str y agregar a lista\n",
    "        valores=j.strip()\n",
    "        lista_cast.append(valores) #agrego valores a lista_cast\n",
    "    df_lista_cast= pd.Series(lista_cast) #transformo a dataframe\n",
    "df_lista_cast.value_counts().max()"
   ]
  },
  {
   "cell_type": "code",
   "execution_count": 12,
   "metadata": {},
   "outputs": [],
   "source": [
    "def get_actor(platform, year): \n",
    "\n",
    "    #declaro parametros\n",
    "    if platform == 'netflix':\n",
    "        plataforma= 'n'\n",
    "    elif platform == 'disney':\n",
    "        plataforma= 'd'\n",
    "    elif platform == 'hulu':\n",
    "        plataforma= 'h'\n",
    "    elif platform == 'amazon':\n",
    "        plataforma= 'a'\n",
    "    else:\n",
    "        return 'ingresar plataforma valida: amazon, disney, hulu o netflix'\n",
    "\n",
    "\n",
    "    filtroplat = df_plataformagral[(df_plataformagral.id.str.contains(plataforma))\n",
    "                                   & (df_plataformagral.release_year==year)] #filtro por año y plataforma\n",
    "\n",
    "    if filtroplat.empty: #si devuelve df vacio\n",
    "        \n",
    "        return 'el año no se encuentra en el dataset'\n",
    "    else:\n",
    "        lista= filtroplat['cast'] #guardo en nueva variable los actores por peliculas\n",
    "        newlista = [x for x in lista if pd.isnull(x) == False]#elimino flotantes\n",
    "\n",
    "        lista_cast=[]\n",
    "        for i in newlista: #itero para separar actores en diferentes str\n",
    "            separador= i.split(sep=',')\n",
    "            for j in separador: #itero para eliminar espacios en cada nuevo str y agregar a lista\n",
    "                    valores=j.strip()\n",
    "                    lista_cast.append(valores) #agrego valores a lista_cast\n",
    "        df_lista_cast= pd.Series(lista_cast) #transformo a dataframe\n",
    "        return {'plataforma': platform, 'anio': year, 'actor' : df_lista_cast.value_counts().idxmax(), 'apariciones' : df_lista_cast.value_counts().max()} #imprimo copnsulta del str mas repetido"
   ]
  },
  {
   "cell_type": "code",
   "execution_count": 13,
   "metadata": {},
   "outputs": [
    {
     "data": {
      "text/plain": [
       "{'plataforma': 'netflix',\n",
       " 'anio': 2015,\n",
       " 'actor': 'james franco',\n",
       " 'apariciones': 5}"
      ]
     },
     "execution_count": 13,
     "metadata": {},
     "output_type": "execute_result"
    }
   ],
   "source": [
    "get_actor('netflix', 2015)"
   ]
  },
  {
   "attachments": {},
   "cell_type": "markdown",
   "metadata": {},
   "source": [
    "La cantidad de contenidos/productos (todo lo disponible en streaming) que se publicó por país y año. La función debe llamarse prod_per_county(tipo,pais,anio) deberia devolver la cantidada de contenidos/productos segun el tipo de contenido (pelicula,serie) por pais y año en un diccionario con las variables llamadas 'pais' (nombre del pais), 'anio' (año), 'pelicula' (cantidad de contenidos/productos)."
   ]
  },
  {
   "cell_type": "code",
   "execution_count": 33,
   "metadata": {},
   "outputs": [],
   "source": [
    "pais= 'canada'\n"
   ]
  },
  {
   "cell_type": "code",
   "execution_count": 37,
   "metadata": {},
   "outputs": [
    {
     "data": {
      "text/plain": [
       "(38, 15)"
      ]
     },
     "execution_count": 37,
     "metadata": {},
     "output_type": "execute_result"
    }
   ],
   "source": [
    "prueba.shape\n",
    "\n"
   ]
  },
  {
   "cell_type": "code",
   "execution_count": 35,
   "metadata": {},
   "outputs": [
    {
     "data": {
      "text/plain": [
       "38"
      ]
     },
     "execution_count": 35,
     "metadata": {},
     "output_type": "execute_result"
    }
   ],
   "source": [
    "prueba= filtro_anioytipo[filtro_anioytipo.country.str.contains(pais)]\n",
    "prueba.type.count()"
   ]
  },
  {
   "cell_type": "code",
   "execution_count": 30,
   "metadata": {},
   "outputs": [],
   "source": [
    "filtro_anioytipo=df_plataformagral[(df_plataformagral.type=='movie') \n",
    "                                    & (df_plataformagral.release_year==2015)\n",
    "                                    & (df_plataformagral.country.notnull())]\n"
   ]
  },
  {
   "cell_type": "code",
   "execution_count": 38,
   "metadata": {},
   "outputs": [
    {
     "data": {
      "text/plain": [
       "id                   0\n",
       "show_id              0\n",
       "type                 0\n",
       "title                0\n",
       "director          8259\n",
       "cast              5321\n",
       "country          11499\n",
       "date_added       10982\n",
       "release_year         0\n",
       "rating               0\n",
       "duration           482\n",
       "listed_in            0\n",
       "description          4\n",
       "duration_int       482\n",
       "duration_type      482\n",
       "dtype: int64"
      ]
     },
     "execution_count": 38,
     "metadata": {},
     "output_type": "execute_result"
    }
   ],
   "source": [
    "df_plataformagral.isna().sum()"
   ]
  },
  {
   "cell_type": "code",
   "execution_count": 54,
   "metadata": {},
   "outputs": [],
   "source": [
    "def prod_per_county(tipo,pais,anio):\n",
    "\n",
    "    #declaramos parametros\n",
    "    \n",
    "    if tipo == 'peliculas' :\n",
    "        variable_tipo= 'movie'\n",
    "    elif tipo == 'series':\n",
    "        variable_tipo= 'tv show'\n",
    "    else:\n",
    "        return 'ingresar parametro : peliculas o series'\n",
    "\n",
    "    filtro=df_plataformagral[(df_plataformagral.type=='movie') \n",
    "                                    & (df_plataformagral.release_year==anio)\n",
    "                                    & (df_plataformagral.country.notnull())\n",
    "                                    & (df_plataformagral.country.str.contains(pais))]\n",
    "    # total=filtro.type.count()\n",
    "    #     prueba= filtro_anioytipo[filtro_anioytipo.country.str.contains(pais)]\n",
    "    # prueba.type.count()\n",
    "    respuesta= filtro.type.count()\n",
    "\n",
    "    return {'pais': pais, 'anio': anio, variable_tipo: respuesta}"
   ]
  },
  {
   "cell_type": "code",
   "execution_count": 68,
   "metadata": {},
   "outputs": [
    {
     "data": {
      "text/plain": [
       "{'pais': 'canada', 'anio': 2020, 'movie': 30}"
      ]
     },
     "execution_count": 68,
     "metadata": {},
     "output_type": "execute_result"
    }
   ],
   "source": [
    "prod_per_county('peliculas', 'canada', 2020)"
   ]
  },
  {
   "attachments": {},
   "cell_type": "markdown",
   "metadata": {},
   "source": [
    "La cantidad total de contenidos/productos (todo lo disponible en streaming, series, peliculas, etc) según el rating de audiencia dado (para que publico fue clasificada la pelicula). La función debe llamarse get_contents(rating) y debe devolver el numero total de contenido con ese rating de audiencias."
   ]
  },
  {
   "cell_type": "code",
   "execution_count": 72,
   "metadata": {},
   "outputs": [
    {
     "data": {
      "text/plain": [
       "array(['pg-13', 'tv-ma', 'pg', 'tv-14', 'tv-pg', 'tv-y', 'tv-y7', 'r',\n",
       "       'tv-g', 'g', 'nc-17', '74 min', '84 min', '66 min', 'nr',\n",
       "       'tv-y7-fv', 'ur', 'not rated', '2 seasons', '93 min', '4 seasons',\n",
       "       '136 min', '91 min', '85 min', '98 min', '89 min', '94 min',\n",
       "       '86 min', '3 seasons', '121 min', '88 min', '101 min', '1 season',\n",
       "       '83 min', '100 min', '95 min', '92 min', '96 min', '109 min',\n",
       "       '99 min', '75 min', '87 min', '67 min', '104 min', '107 min',\n",
       "       '103 min', '105 min', '119 min', '114 min', '82 min', '90 min',\n",
       "       '130 min', '110 min', '80 min', '6 seasons', '97 min', '111 min',\n",
       "       '81 min', '49 min', '45 min', '41 min', '73 min', '40 min',\n",
       "       '36 min', '39 min', '34 min', '47 min', '65 min', '37 min',\n",
       "       '78 min', '102 min', '129 min', '115 min', '112 min', '61 min',\n",
       "       '106 min', '76 min', '77 min', '79 min', '157 min', '28 min',\n",
       "       '64 min', '7 min', '5 min', '6 min', '127 min', '142 min',\n",
       "       '108 min', '57 min', '118 min', '116 min', '12 seasons', '71 min',\n",
       "       '13+', 'all', '18+', '16+', '7+', 'tv-nr', 'unrated', '16',\n",
       "       'ages_16_', 'ages_18_', 'all_ages', 'not_rate'], dtype=object)"
      ]
     },
     "execution_count": 72,
     "metadata": {},
     "output_type": "execute_result"
    }
   ],
   "source": [
    "df_plataformagral.rating.unique()"
   ]
  },
  {
   "cell_type": "code",
   "execution_count": null,
   "metadata": {},
   "outputs": [],
   "source": [
    "def get_contents(rating):\n",
    "    "
   ]
  }
 ],
 "metadata": {
  "kernelspec": {
   "display_name": "Python 3",
   "language": "python",
   "name": "python3"
  },
  "language_info": {
   "codemirror_mode": {
    "name": "ipython",
    "version": 3
   },
   "file_extension": ".py",
   "mimetype": "text/x-python",
   "name": "python",
   "nbconvert_exporter": "python",
   "pygments_lexer": "ipython3",
   "version": "3.10.5"
  },
  "orig_nbformat": 4
 },
 "nbformat": 4,
 "nbformat_minor": 2
}
