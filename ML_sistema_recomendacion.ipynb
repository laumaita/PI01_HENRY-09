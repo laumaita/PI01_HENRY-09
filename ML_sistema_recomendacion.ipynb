{
 "cells": [
  {
   "attachments": {},
   "cell_type": "markdown",
   "metadata": {},
   "source": [
    "Machine Learning"
   ]
  },
  {
   "attachments": {},
   "cell_type": "markdown",
   "metadata": {},
   "source": [
    "1. Importamos librerias necesarias"
   ]
  },
  {
   "cell_type": "code",
   "execution_count": 2,
   "metadata": {},
   "outputs": [],
   "source": [
    "import pandas as pd\n",
    "import numpy as np \n"
   ]
  },
  {
   "cell_type": "code",
   "execution_count": 3,
   "metadata": {},
   "outputs": [],
   "source": [
    "from sklearn.compose import ColumnTransformer\n",
    "from sklearn.preprocessing import OneHotEncoder, StandardScaler\n",
    "from sklearn.pipeline import Pipeline"
   ]
  },
  {
   "cell_type": "code",
   "execution_count": 22,
   "metadata": {},
   "outputs": [],
   "source": [
    "from sklearn.neighbors import NearestNeighbors"
   ]
  },
  {
   "cell_type": "code",
   "execution_count": 4,
   "metadata": {},
   "outputs": [],
   "source": [
    "#Abro los archivos a utilizar\n",
    "total_plataformas = pd.read_csv('totalplataformas.csv', delimiter=',', encoding='utf-8')\n",
    "total_score= pd.read_csv('score_movies.csv', delimiter=',', encoding='utf-8')"
   ]
  },
  {
   "cell_type": "code",
   "execution_count": 169,
   "metadata": {},
   "outputs": [
    {
     "data": {
      "text/html": [
       "<div>\n",
       "<style scoped>\n",
       "    .dataframe tbody tr th:only-of-type {\n",
       "        vertical-align: middle;\n",
       "    }\n",
       "\n",
       "    .dataframe tbody tr th {\n",
       "        vertical-align: top;\n",
       "    }\n",
       "\n",
       "    .dataframe thead th {\n",
       "        text-align: right;\n",
       "    }\n",
       "</style>\n",
       "<table border=\"1\" class=\"dataframe\">\n",
       "  <thead>\n",
       "    <tr style=\"text-align: right;\">\n",
       "      <th></th>\n",
       "      <th>id</th>\n",
       "      <th>show_id</th>\n",
       "      <th>type</th>\n",
       "      <th>title</th>\n",
       "      <th>director</th>\n",
       "      <th>cast</th>\n",
       "      <th>country</th>\n",
       "      <th>date_added</th>\n",
       "      <th>release_year</th>\n",
       "      <th>rating</th>\n",
       "      <th>duration</th>\n",
       "      <th>listed_in</th>\n",
       "      <th>description</th>\n",
       "      <th>duration_int</th>\n",
       "      <th>duration_type</th>\n",
       "    </tr>\n",
       "  </thead>\n",
       "  <tbody>\n",
       "    <tr>\n",
       "      <th>0</th>\n",
       "      <td>ns1</td>\n",
       "      <td>s1</td>\n",
       "      <td>movie</td>\n",
       "      <td>dick johnson is dead</td>\n",
       "      <td>kirsten johnson</td>\n",
       "      <td>NaN</td>\n",
       "      <td>united states</td>\n",
       "      <td>2021-09-25</td>\n",
       "      <td>2020</td>\n",
       "      <td>pg-13</td>\n",
       "      <td>90 min</td>\n",
       "      <td>documentaries</td>\n",
       "      <td>as her father nears the end of his life, filmm...</td>\n",
       "      <td>90.0</td>\n",
       "      <td>min</td>\n",
       "    </tr>\n",
       "    <tr>\n",
       "      <th>1</th>\n",
       "      <td>ns2</td>\n",
       "      <td>s2</td>\n",
       "      <td>tv show</td>\n",
       "      <td>blood &amp; water</td>\n",
       "      <td>NaN</td>\n",
       "      <td>ama qamata, khosi ngema, gail mabalane, thaban...</td>\n",
       "      <td>south africa</td>\n",
       "      <td>2021-09-24</td>\n",
       "      <td>2021</td>\n",
       "      <td>tv-ma</td>\n",
       "      <td>2 seasons</td>\n",
       "      <td>international tv shows, tv dramas, tv mysteries</td>\n",
       "      <td>after crossing paths at a party, a cape town t...</td>\n",
       "      <td>2.0</td>\n",
       "      <td>season</td>\n",
       "    </tr>\n",
       "  </tbody>\n",
       "</table>\n",
       "</div>"
      ],
      "text/plain": [
       "    id show_id     type                 title         director  \\\n",
       "0  ns1      s1    movie  dick johnson is dead  kirsten johnson   \n",
       "1  ns2      s2  tv show         blood & water              NaN   \n",
       "\n",
       "                                                cast        country  \\\n",
       "0                                                NaN  united states   \n",
       "1  ama qamata, khosi ngema, gail mabalane, thaban...   south africa   \n",
       "\n",
       "   date_added  release_year rating   duration  \\\n",
       "0  2021-09-25          2020  pg-13     90 min   \n",
       "1  2021-09-24          2021  tv-ma  2 seasons   \n",
       "\n",
       "                                         listed_in  \\\n",
       "0                                    documentaries   \n",
       "1  international tv shows, tv dramas, tv mysteries   \n",
       "\n",
       "                                         description  duration_int  \\\n",
       "0  as her father nears the end of his life, filmm...          90.0   \n",
       "1  after crossing paths at a party, a cape town t...           2.0   \n",
       "\n",
       "  duration_type  \n",
       "0           min  \n",
       "1        season  "
      ]
     },
     "execution_count": 169,
     "metadata": {},
     "output_type": "execute_result"
    }
   ],
   "source": [
    "total_plataformas.head(2)"
   ]
  },
  {
   "cell_type": "code",
   "execution_count": 170,
   "metadata": {},
   "outputs": [
    {
     "data": {
      "text/html": [
       "<div>\n",
       "<style scoped>\n",
       "    .dataframe tbody tr th:only-of-type {\n",
       "        vertical-align: middle;\n",
       "    }\n",
       "\n",
       "    .dataframe tbody tr th {\n",
       "        vertical-align: top;\n",
       "    }\n",
       "\n",
       "    .dataframe thead th {\n",
       "        text-align: right;\n",
       "    }\n",
       "</style>\n",
       "<table border=\"1\" class=\"dataframe\">\n",
       "  <thead>\n",
       "    <tr style=\"text-align: right;\">\n",
       "      <th></th>\n",
       "      <th>id</th>\n",
       "      <th>score</th>\n",
       "    </tr>\n",
       "  </thead>\n",
       "  <tbody>\n",
       "    <tr>\n",
       "      <th>0</th>\n",
       "      <td>as1</td>\n",
       "      <td>3.467131</td>\n",
       "    </tr>\n",
       "    <tr>\n",
       "      <th>1</th>\n",
       "      <td>as10</td>\n",
       "      <td>3.439571</td>\n",
       "    </tr>\n",
       "  </tbody>\n",
       "</table>\n",
       "</div>"
      ],
      "text/plain": [
       "     id     score\n",
       "0   as1  3.467131\n",
       "1  as10  3.439571"
      ]
     },
     "execution_count": 170,
     "metadata": {},
     "output_type": "execute_result"
    }
   ],
   "source": [
    "total_score.head(2)"
   ]
  },
  {
   "cell_type": "code",
   "execution_count": 7,
   "metadata": {},
   "outputs": [],
   "source": [
    "total_score.rename({'movieId':'id'}, axis=1, inplace=True)#renombro id para unir df"
   ]
  },
  {
   "cell_type": "code",
   "execution_count": 9,
   "metadata": {},
   "outputs": [],
   "source": [
    "df_completo = total_plataformas.merge(total_score,on='id', how='left')"
   ]
  },
  {
   "cell_type": "code",
   "execution_count": 11,
   "metadata": {},
   "outputs": [
    {
     "data": {
      "text/plain": [
       "(22998, 16)"
      ]
     },
     "execution_count": 11,
     "metadata": {},
     "output_type": "execute_result"
    }
   ],
   "source": [
    "df_completo.shape"
   ]
  },
  {
   "cell_type": "code",
   "execution_count": 29,
   "metadata": {},
   "outputs": [],
   "source": [
    "#me quedo solo con las peliculas\n",
    "df_peliculas= df_completo[df_completo.type=='movie']"
   ]
  },
  {
   "cell_type": "code",
   "execution_count": 30,
   "metadata": {},
   "outputs": [
    {
     "data": {
      "text/plain": [
       "(16481, 16)"
      ]
     },
     "execution_count": 30,
     "metadata": {},
     "output_type": "execute_result"
    }
   ],
   "source": [
    "df_peliculas.shape"
   ]
  },
  {
   "cell_type": "code",
   "execution_count": 68,
   "metadata": {},
   "outputs": [],
   "source": [
    "df_peliculas.reset_index(inplace=True)#reseteo el indice para trabajar con el modelo"
   ]
  },
  {
   "cell_type": "code",
   "execution_count": 171,
   "metadata": {},
   "outputs": [],
   "source": [
    "df_peliculas.to_csv('peliculas.csv', index=False) #guardo el archivo para las consultas en la Api"
   ]
  },
  {
   "attachments": {},
   "cell_type": "markdown",
   "metadata": {},
   "source": [
    "2. Realizo transformaciones necesarias\n",
    "Sistema de recomendación en base a las características de la película (director, actores, género, puntuacion promedio)."
   ]
  },
  {
   "cell_type": "code",
   "execution_count": 35,
   "metadata": {},
   "outputs": [
    {
     "data": {
      "text/html": [
       "<div>\n",
       "<style scoped>\n",
       "    .dataframe tbody tr th:only-of-type {\n",
       "        vertical-align: middle;\n",
       "    }\n",
       "\n",
       "    .dataframe tbody tr th {\n",
       "        vertical-align: top;\n",
       "    }\n",
       "\n",
       "    .dataframe thead th {\n",
       "        text-align: right;\n",
       "    }\n",
       "</style>\n",
       "<table border=\"1\" class=\"dataframe\">\n",
       "  <thead>\n",
       "    <tr style=\"text-align: right;\">\n",
       "      <th></th>\n",
       "      <th>director</th>\n",
       "      <th>cast</th>\n",
       "      <th>listed_in</th>\n",
       "      <th>score</th>\n",
       "    </tr>\n",
       "  </thead>\n",
       "  <tbody>\n",
       "    <tr>\n",
       "      <th>0</th>\n",
       "      <td>kirsten johnson</td>\n",
       "      <td>NaN</td>\n",
       "      <td>documentaries</td>\n",
       "      <td>3.611111</td>\n",
       "    </tr>\n",
       "    <tr>\n",
       "      <th>6</th>\n",
       "      <td>robert cullen, josé luis ucha</td>\n",
       "      <td>vanessa hudgens, kimiko glenn, james marsden, ...</td>\n",
       "      <td>children &amp; family movies</td>\n",
       "      <td>3.482183</td>\n",
       "    </tr>\n",
       "    <tr>\n",
       "      <th>7</th>\n",
       "      <td>haile gerima</td>\n",
       "      <td>kofi ghanaba, oyafunmike ogunlano, alexandra d...</td>\n",
       "      <td>dramas, independent movies, international movies</td>\n",
       "      <td>3.491736</td>\n",
       "    </tr>\n",
       "    <tr>\n",
       "      <th>9</th>\n",
       "      <td>theodore melfi</td>\n",
       "      <td>melissa mccarthy, chris o'dowd, kevin kline, t...</td>\n",
       "      <td>comedies, dramas</td>\n",
       "      <td>3.571584</td>\n",
       "    </tr>\n",
       "    <tr>\n",
       "      <th>12</th>\n",
       "      <td>christian schwochow</td>\n",
       "      <td>luna wedler, jannis niewöhner, milan peschel, ...</td>\n",
       "      <td>dramas, international movies</td>\n",
       "      <td>3.531915</td>\n",
       "    </tr>\n",
       "  </tbody>\n",
       "</table>\n",
       "</div>"
      ],
      "text/plain": [
       "                         director  \\\n",
       "0                 kirsten johnson   \n",
       "6   robert cullen, josé luis ucha   \n",
       "7                    haile gerima   \n",
       "9                  theodore melfi   \n",
       "12            christian schwochow   \n",
       "\n",
       "                                                 cast  \\\n",
       "0                                                 NaN   \n",
       "6   vanessa hudgens, kimiko glenn, james marsden, ...   \n",
       "7   kofi ghanaba, oyafunmike ogunlano, alexandra d...   \n",
       "9   melissa mccarthy, chris o'dowd, kevin kline, t...   \n",
       "12  luna wedler, jannis niewöhner, milan peschel, ...   \n",
       "\n",
       "                                           listed_in     score  \n",
       "0                                      documentaries  3.611111  \n",
       "6                           children & family movies  3.482183  \n",
       "7   dramas, independent movies, international movies  3.491736  \n",
       "9                                   comedies, dramas  3.571584  \n",
       "12                      dramas, international movies  3.531915  "
      ]
     },
     "execution_count": 35,
     "metadata": {},
     "output_type": "execute_result"
    }
   ],
   "source": [
    "# Filtro data a utilizar\n",
    "columnas = ['director', 'cast', 'listed_in', 'score']\n",
    "df_filt_peliculas = df_peliculas.loc[:,columnas]\n",
    "df_filt_peliculas.head()"
   ]
  },
  {
   "cell_type": "code",
   "execution_count": 38,
   "metadata": {},
   "outputs": [
    {
     "data": {
      "text/plain": [
       "director        0\n",
       "cast         2842\n",
       "listed_in       0\n",
       "score           0\n",
       "dtype: int64"
      ]
     },
     "execution_count": 38,
     "metadata": {},
     "output_type": "execute_result"
    }
   ],
   "source": [
    "df_filt_peliculas.isna().sum()"
   ]
  },
  {
   "cell_type": "code",
   "execution_count": null,
   "metadata": {},
   "outputs": [],
   "source": [
    "df_filt_peliculas.director.fillna('sin registro', inplace=True)#lleno campos vacios"
   ]
  },
  {
   "cell_type": "code",
   "execution_count": 39,
   "metadata": {},
   "outputs": [],
   "source": [
    "df_filt_peliculas.cast.fillna('sin registro', inplace=True)#lleno campos vacios"
   ]
  },
  {
   "cell_type": "code",
   "execution_count": 172,
   "metadata": {},
   "outputs": [
    {
     "data": {
      "text/plain": [
       "director     0\n",
       "cast         0\n",
       "listed_in    0\n",
       "score        0\n",
       "dtype: int64"
      ]
     },
     "execution_count": 172,
     "metadata": {},
     "output_type": "execute_result"
    }
   ],
   "source": [
    "df_filt_peliculas.isna().sum()#verificamos"
   ]
  },
  {
   "cell_type": "code",
   "execution_count": 210,
   "metadata": {},
   "outputs": [
    {
     "name": "stdout",
     "output_type": "stream",
     "text": [
      "<class 'pandas.core.frame.DataFrame'>\n",
      "Int64Index: 16481 entries, 0 to 22997\n",
      "Data columns (total 4 columns):\n",
      " #   Column     Non-Null Count  Dtype  \n",
      "---  ------     --------------  -----  \n",
      " 0   director   16481 non-null  object \n",
      " 1   cast       16481 non-null  object \n",
      " 2   listed_in  16481 non-null  object \n",
      " 3   score      16481 non-null  float64\n",
      "dtypes: float64(1), object(3)\n",
      "memory usage: 1.1+ MB\n"
     ]
    }
   ],
   "source": [
    "df_filt_peliculas.info()"
   ]
  },
  {
   "cell_type": "code",
   "execution_count": 175,
   "metadata": {},
   "outputs": [],
   "source": [
    "df_filt_peliculas.to_csv('filtro_peliculas.csv', index=False)#guardo archivo para la Api"
   ]
  },
  {
   "cell_type": "code",
   "execution_count": 41,
   "metadata": {},
   "outputs": [],
   "source": [
    "# Creo pipeline para variables numericas\n",
    "pipeline_num = Pipeline([\n",
    "    ('scaler', StandardScaler())\n",
    "    ])"
   ]
  },
  {
   "cell_type": "code",
   "execution_count": 42,
   "metadata": {},
   "outputs": [],
   "source": [
    "# Creo pipeline para variables categoricas\n",
    "pipeline_categorica = Pipeline([\n",
    "    ('encoder', OneHotEncoder(drop = 'first'))\n",
    "    ])"
   ]
  },
  {
   "cell_type": "code",
   "execution_count": 43,
   "metadata": {},
   "outputs": [],
   "source": [
    "# creo las transfromaciones\n",
    "col_transf = ColumnTransformer([\n",
    "    ('numeric', pipeline_num, df_filt_peliculas._get_numeric_data().columns.tolist()),\n",
    "    ('categoric', pipeline_categorica, df_filt_peliculas.select_dtypes('object').columns.tolist()) \n",
    "    ])"
   ]
  },
  {
   "cell_type": "code",
   "execution_count": 44,
   "metadata": {},
   "outputs": [
    {
     "data": {
      "text/plain": [
       "<16481x23968 sparse matrix of type '<class 'numpy.float64'>'\n",
       "\twith 65672 stored elements in Compressed Sparse Row format>"
      ]
     },
     "execution_count": 44,
     "metadata": {},
     "output_type": "execute_result"
    }
   ],
   "source": [
    "#entrenamos\n",
    "col_transf_fit = col_transf.fit(df_filt_peliculas)\n",
    "df_filt_transf = col_transf_fit.transform(df_filt_peliculas)\n",
    "df_filt_transf"
   ]
  },
  {
   "cell_type": "code",
   "execution_count": 152,
   "metadata": {},
   "outputs": [],
   "source": [
    "#knn vecinos,  distancia coseno, entrenamos.\n",
    "n_neighbors=6\n",
    "nneighbors = NearestNeighbors(n_neighbors = n_neighbors, metric = 'cosine').fit(df_filt_transf)"
   ]
  },
  {
   "cell_type": "code",
   "execution_count": 127,
   "metadata": {},
   "outputs": [
    {
     "data": {
      "text/plain": [
       "2"
      ]
     },
     "execution_count": 127,
     "metadata": {},
     "output_type": "execute_result"
    }
   ],
   "source": [
    "#pruevo buscar el indice\n",
    "titulo='sankofa'\n",
    "indice=df_peliculas[df_peliculas.title==titulo].index.values[0]\n",
    "indice"
   ]
  },
  {
   "cell_type": "code",
   "execution_count": 211,
   "metadata": {},
   "outputs": [
    {
     "data": {
      "text/html": [
       "<div>\n",
       "<style scoped>\n",
       "    .dataframe tbody tr th:only-of-type {\n",
       "        vertical-align: middle;\n",
       "    }\n",
       "\n",
       "    .dataframe tbody tr th {\n",
       "        vertical-align: top;\n",
       "    }\n",
       "\n",
       "    .dataframe thead th {\n",
       "        text-align: right;\n",
       "    }\n",
       "</style>\n",
       "<table border=\"1\" class=\"dataframe\">\n",
       "  <thead>\n",
       "    <tr style=\"text-align: right;\">\n",
       "      <th></th>\n",
       "      <th>index</th>\n",
       "      <th>id</th>\n",
       "      <th>show_id</th>\n",
       "      <th>type</th>\n",
       "      <th>title</th>\n",
       "      <th>director</th>\n",
       "      <th>cast</th>\n",
       "      <th>country</th>\n",
       "      <th>date_added</th>\n",
       "      <th>release_year</th>\n",
       "      <th>rating</th>\n",
       "      <th>duration</th>\n",
       "      <th>listed_in</th>\n",
       "      <th>description</th>\n",
       "      <th>duration_int</th>\n",
       "      <th>duration_type</th>\n",
       "      <th>score</th>\n",
       "    </tr>\n",
       "  </thead>\n",
       "  <tbody>\n",
       "    <tr>\n",
       "      <th>0</th>\n",
       "      <td>0</td>\n",
       "      <td>ns1</td>\n",
       "      <td>s1</td>\n",
       "      <td>movie</td>\n",
       "      <td>dick johnson is dead</td>\n",
       "      <td>kirsten johnson</td>\n",
       "      <td>NaN</td>\n",
       "      <td>united states</td>\n",
       "      <td>2021-09-25</td>\n",
       "      <td>2020</td>\n",
       "      <td>pg-13</td>\n",
       "      <td>90 min</td>\n",
       "      <td>documentaries</td>\n",
       "      <td>as her father nears the end of his life, filmm...</td>\n",
       "      <td>90.0</td>\n",
       "      <td>min</td>\n",
       "      <td>3.611111</td>\n",
       "    </tr>\n",
       "    <tr>\n",
       "      <th>1</th>\n",
       "      <td>6</td>\n",
       "      <td>ns7</td>\n",
       "      <td>s7</td>\n",
       "      <td>movie</td>\n",
       "      <td>my little pony: a new generation</td>\n",
       "      <td>robert cullen, josé luis ucha</td>\n",
       "      <td>vanessa hudgens, kimiko glenn, james marsden, ...</td>\n",
       "      <td>NaN</td>\n",
       "      <td>2021-09-24</td>\n",
       "      <td>2021</td>\n",
       "      <td>pg</td>\n",
       "      <td>91 min</td>\n",
       "      <td>children &amp; family movies</td>\n",
       "      <td>equestria's divided. but a bright-eyed hero be...</td>\n",
       "      <td>91.0</td>\n",
       "      <td>min</td>\n",
       "      <td>3.482183</td>\n",
       "    </tr>\n",
       "    <tr>\n",
       "      <th>2</th>\n",
       "      <td>7</td>\n",
       "      <td>ns8</td>\n",
       "      <td>s8</td>\n",
       "      <td>movie</td>\n",
       "      <td>sankofa</td>\n",
       "      <td>haile gerima</td>\n",
       "      <td>kofi ghanaba, oyafunmike ogunlano, alexandra d...</td>\n",
       "      <td>united states, ghana, burkina faso, united kin...</td>\n",
       "      <td>2021-09-24</td>\n",
       "      <td>1993</td>\n",
       "      <td>tv-ma</td>\n",
       "      <td>125 min</td>\n",
       "      <td>dramas, independent movies, international movies</td>\n",
       "      <td>on a photo shoot in ghana, an american model s...</td>\n",
       "      <td>125.0</td>\n",
       "      <td>min</td>\n",
       "      <td>3.491736</td>\n",
       "    </tr>\n",
       "  </tbody>\n",
       "</table>\n",
       "</div>"
      ],
      "text/plain": [
       "   index   id show_id   type                             title  \\\n",
       "0      0  ns1      s1  movie              dick johnson is dead   \n",
       "1      6  ns7      s7  movie  my little pony: a new generation   \n",
       "2      7  ns8      s8  movie                           sankofa   \n",
       "\n",
       "                        director  \\\n",
       "0                kirsten johnson   \n",
       "1  robert cullen, josé luis ucha   \n",
       "2                   haile gerima   \n",
       "\n",
       "                                                cast  \\\n",
       "0                                                NaN   \n",
       "1  vanessa hudgens, kimiko glenn, james marsden, ...   \n",
       "2  kofi ghanaba, oyafunmike ogunlano, alexandra d...   \n",
       "\n",
       "                                             country  date_added  \\\n",
       "0                                      united states  2021-09-25   \n",
       "1                                                NaN  2021-09-24   \n",
       "2  united states, ghana, burkina faso, united kin...  2021-09-24   \n",
       "\n",
       "   release_year rating duration  \\\n",
       "0          2020  pg-13   90 min   \n",
       "1          2021     pg   91 min   \n",
       "2          1993  tv-ma  125 min   \n",
       "\n",
       "                                          listed_in  \\\n",
       "0                                     documentaries   \n",
       "1                          children & family movies   \n",
       "2  dramas, independent movies, international movies   \n",
       "\n",
       "                                         description  duration_int  \\\n",
       "0  as her father nears the end of his life, filmm...          90.0   \n",
       "1  equestria's divided. but a bright-eyed hero be...          91.0   \n",
       "2  on a photo shoot in ghana, an american model s...         125.0   \n",
       "\n",
       "  duration_type     score  \n",
       "0           min  3.611111  \n",
       "1           min  3.482183  \n",
       "2           min  3.491736  "
      ]
     },
     "execution_count": 211,
     "metadata": {},
     "output_type": "execute_result"
    }
   ],
   "source": [
    "df_peliculas.head(3) #verifico"
   ]
  },
  {
   "cell_type": "code",
   "execution_count": 168,
   "metadata": {},
   "outputs": [
    {
     "data": {
      "text/html": [
       "<div>\n",
       "<style scoped>\n",
       "    .dataframe tbody tr th:only-of-type {\n",
       "        vertical-align: middle;\n",
       "    }\n",
       "\n",
       "    .dataframe tbody tr th {\n",
       "        vertical-align: top;\n",
       "    }\n",
       "\n",
       "    .dataframe thead th {\n",
       "        text-align: right;\n",
       "    }\n",
       "</style>\n",
       "<table border=\"1\" class=\"dataframe\">\n",
       "  <thead>\n",
       "    <tr style=\"text-align: right;\">\n",
       "      <th></th>\n",
       "      <th>index</th>\n",
       "      <th>id</th>\n",
       "      <th>show_id</th>\n",
       "      <th>type</th>\n",
       "      <th>title</th>\n",
       "      <th>director</th>\n",
       "      <th>cast</th>\n",
       "      <th>country</th>\n",
       "      <th>date_added</th>\n",
       "      <th>release_year</th>\n",
       "      <th>rating</th>\n",
       "      <th>duration</th>\n",
       "      <th>listed_in</th>\n",
       "      <th>description</th>\n",
       "      <th>duration_int</th>\n",
       "      <th>duration_type</th>\n",
       "      <th>score</th>\n",
       "    </tr>\n",
       "  </thead>\n",
       "  <tbody>\n",
       "    <tr>\n",
       "      <th>836</th>\n",
       "      <td>1262</td>\n",
       "      <td>ns1263</td>\n",
       "      <td>s1263</td>\n",
       "      <td>movie</td>\n",
       "      <td>ginny &amp; georgia - the afterparty</td>\n",
       "      <td>NaN</td>\n",
       "      <td>david spade, london hughes, fortune feimster, ...</td>\n",
       "      <td>NaN</td>\n",
       "      <td>2021-02-26</td>\n",
       "      <td>2021</td>\n",
       "      <td>tv-ma</td>\n",
       "      <td>35 min</td>\n",
       "      <td>comedies, dramas</td>\n",
       "      <td>cast members of the hit netflix show join the ...</td>\n",
       "      <td>35.0</td>\n",
       "      <td>min</td>\n",
       "      <td>3.653608</td>\n",
       "    </tr>\n",
       "    <tr>\n",
       "      <th>3899</th>\n",
       "      <td>6006</td>\n",
       "      <td>ns6007</td>\n",
       "      <td>s6007</td>\n",
       "      <td>movie</td>\n",
       "      <td>28 days</td>\n",
       "      <td>betty thomas</td>\n",
       "      <td>sandra bullock, viggo mortensen, dominic west,...</td>\n",
       "      <td>united states</td>\n",
       "      <td>2020-09-30</td>\n",
       "      <td>2000</td>\n",
       "      <td>pg-13</td>\n",
       "      <td>104 min</td>\n",
       "      <td>comedies, dramas</td>\n",
       "      <td>after her drunken antics result in property da...</td>\n",
       "      <td>104.0</td>\n",
       "      <td>min</td>\n",
       "      <td>3.615312</td>\n",
       "    </tr>\n",
       "    <tr>\n",
       "      <th>3391</th>\n",
       "      <td>5282</td>\n",
       "      <td>ns5283</td>\n",
       "      <td>s5283</td>\n",
       "      <td>movie</td>\n",
       "      <td>carrie pilby</td>\n",
       "      <td>susan johnson</td>\n",
       "      <td>bel powley, nathan lane, vanessa bayer, gabrie...</td>\n",
       "      <td>united states</td>\n",
       "      <td>2017-09-05</td>\n",
       "      <td>2016</td>\n",
       "      <td>tv-ma</td>\n",
       "      <td>98 min</td>\n",
       "      <td>comedies, dramas</td>\n",
       "      <td>a socially awkward 19-year-old genius makes bi...</td>\n",
       "      <td>98.0</td>\n",
       "      <td>min</td>\n",
       "      <td>3.615152</td>\n",
       "    </tr>\n",
       "    <tr>\n",
       "      <th>5759</th>\n",
       "      <td>8352</td>\n",
       "      <td>ns8353</td>\n",
       "      <td>s8353</td>\n",
       "      <td>movie</td>\n",
       "      <td>the hundred-foot journey</td>\n",
       "      <td>lasse hallström</td>\n",
       "      <td>helen mirren, om puri, manish dayal, charlotte...</td>\n",
       "      <td>united states, india, united arab emirates</td>\n",
       "      <td>2019-01-31</td>\n",
       "      <td>2014</td>\n",
       "      <td>pg</td>\n",
       "      <td>123 min</td>\n",
       "      <td>comedies, dramas</td>\n",
       "      <td>a chef and his family leave india to open an e...</td>\n",
       "      <td>123.0</td>\n",
       "      <td>min</td>\n",
       "      <td>3.603272</td>\n",
       "    </tr>\n",
       "    <tr>\n",
       "      <th>3299</th>\n",
       "      <td>5129</td>\n",
       "      <td>ns5130</td>\n",
       "      <td>s5130</td>\n",
       "      <td>movie</td>\n",
       "      <td>el camino christmas</td>\n",
       "      <td>david e. talbert</td>\n",
       "      <td>jessica alba, tim allen, dax shepard, vincent ...</td>\n",
       "      <td>united states</td>\n",
       "      <td>2017-12-08</td>\n",
       "      <td>2017</td>\n",
       "      <td>tv-ma</td>\n",
       "      <td>89 min</td>\n",
       "      <td>comedies, dramas</td>\n",
       "      <td>stuck in a liquor store during an alleged robb...</td>\n",
       "      <td>89.0</td>\n",
       "      <td>min</td>\n",
       "      <td>3.586100</td>\n",
       "    </tr>\n",
       "  </tbody>\n",
       "</table>\n",
       "</div>"
      ],
      "text/plain": [
       "      index      id show_id   type                             title  \\\n",
       "836    1262  ns1263   s1263  movie  ginny & georgia - the afterparty   \n",
       "3899   6006  ns6007   s6007  movie                           28 days   \n",
       "3391   5282  ns5283   s5283  movie                      carrie pilby   \n",
       "5759   8352  ns8353   s8353  movie          the hundred-foot journey   \n",
       "3299   5129  ns5130   s5130  movie               el camino christmas   \n",
       "\n",
       "              director                                               cast  \\\n",
       "836                NaN  david spade, london hughes, fortune feimster, ...   \n",
       "3899      betty thomas  sandra bullock, viggo mortensen, dominic west,...   \n",
       "3391     susan johnson  bel powley, nathan lane, vanessa bayer, gabrie...   \n",
       "5759   lasse hallström  helen mirren, om puri, manish dayal, charlotte...   \n",
       "3299  david e. talbert  jessica alba, tim allen, dax shepard, vincent ...   \n",
       "\n",
       "                                         country  date_added  release_year  \\\n",
       "836                                          NaN  2021-02-26          2021   \n",
       "3899                               united states  2020-09-30          2000   \n",
       "3391                               united states  2017-09-05          2016   \n",
       "5759  united states, india, united arab emirates  2019-01-31          2014   \n",
       "3299                               united states  2017-12-08          2017   \n",
       "\n",
       "     rating duration         listed_in  \\\n",
       "836   tv-ma   35 min  comedies, dramas   \n",
       "3899  pg-13  104 min  comedies, dramas   \n",
       "3391  tv-ma   98 min  comedies, dramas   \n",
       "5759     pg  123 min  comedies, dramas   \n",
       "3299  tv-ma   89 min  comedies, dramas   \n",
       "\n",
       "                                            description  duration_int  \\\n",
       "836   cast members of the hit netflix show join the ...          35.0   \n",
       "3899  after her drunken antics result in property da...         104.0   \n",
       "3391  a socially awkward 19-year-old genius makes bi...          98.0   \n",
       "5759  a chef and his family leave india to open an e...         123.0   \n",
       "3299  stuck in a liquor store during an alleged robb...          89.0   \n",
       "\n",
       "     duration_type     score  \n",
       "836            min  3.653608  \n",
       "3899           min  3.615312  \n",
       "3391           min  3.615152  \n",
       "5759           min  3.603272  \n",
       "3299           min  3.586100  "
      ]
     },
     "execution_count": 168,
     "metadata": {},
     "output_type": "execute_result"
    }
   ],
   "source": [
    "#pruevo buscar por pelicula\n",
    "titulo='the starling'\n",
    "indice=df_peliculas[df_peliculas.title==titulo].index.values[0]#busco el indice\n",
    "dif, ind = nneighbors.kneighbors(df_filt_transf[indice])#vecinos segun el indice dado\n",
    "\n",
    "\n",
    "df_peliculas.loc[ind[0][0], :]#localizo el indice en el df gral\n",
    "\n",
    "recomendado=df_peliculas.loc[ind[0][1:], :].sort_values('score', ascending=False)#localizo y acomodo segun el score\n",
    "# lista = recomendado.title.to_list()\n",
    "# lista\n",
    "recomendado"
   ]
  },
  {
   "cell_type": "code",
   "execution_count": 206,
   "metadata": {},
   "outputs": [],
   "source": [
    "def get_recommendation(titulo: str):\n",
    "  \n",
    "    if df_peliculas.title[df_peliculas.title==titulo].empty:\n",
    "        return 'pelicula no encontrada'  \n",
    "    else:  \n",
    "        indice=df_peliculas[df_peliculas.title==titulo].index.values[0]\n",
    "        dif, ind = nneighbors.kneighbors(df_filt_transf[indice])\n",
    "\n",
    "        df_peliculas.loc[ind[0][0], :]\n",
    "\n",
    "        recomendado=df_peliculas.loc[ind[0][1:], :].sort_values('score', ascending=False)\n",
    "        lista = recomendado.title.to_list()\n",
    "\n",
    "        return {'recomendacion': lista}\n",
    "\n"
   ]
  },
  {
   "cell_type": "code",
   "execution_count": 205,
   "metadata": {},
   "outputs": [
    {
     "data": {
      "text/plain": [
       "Series([], Name: title, dtype: object)"
      ]
     },
     "execution_count": 205,
     "metadata": {},
     "output_type": "execute_result"
    }
   ],
   "source": [
    "df_peliculas.title[df_peliculas.title=='fdg']"
   ]
  },
  {
   "cell_type": "code",
   "execution_count": 208,
   "metadata": {},
   "outputs": [
    {
     "data": {
      "text/plain": [
       "{'recomendacion': ['ginny & georgia - the afterparty',\n",
       "  '28 days',\n",
       "  'carrie pilby',\n",
       "  'the hundred-foot journey',\n",
       "  'el camino christmas']}"
      ]
     },
     "execution_count": 208,
     "metadata": {},
     "output_type": "execute_result"
    }
   ],
   "source": [
    "get_recommendation('the starling') #verifico funcion"
   ]
  }
 ],
 "metadata": {
  "kernelspec": {
   "display_name": "Python 3",
   "language": "python",
   "name": "python3"
  },
  "language_info": {
   "codemirror_mode": {
    "name": "ipython",
    "version": 3
   },
   "file_extension": ".py",
   "mimetype": "text/x-python",
   "name": "python",
   "nbconvert_exporter": "python",
   "pygments_lexer": "ipython3",
   "version": "3.10.5"
  },
  "orig_nbformat": 4
 },
 "nbformat": 4,
 "nbformat_minor": 2
}
